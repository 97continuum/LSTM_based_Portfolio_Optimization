{
 "cells": [
  {
   "cell_type": "code",
   "execution_count": 1,
   "metadata": {},
   "outputs": [],
   "source": [
    "import numpy as np\n",
    "import pandas as pd\n",
    "import matplotlib.pyplot as plt\n",
    "\n",
    "# Import Functions needed for Data Preprocessing\n",
    "from data import ( preprocess_stock_data,\n",
    "                  clean_financial_ratios,\n",
    "                  merge_and_clean_data,\n",
    "                  filter_useful_features,\n",
    "                  calculate_technical_indicators,\n",
    "                  normalize_data)\n",
    "\n",
    "# import helper functions to run LSTM Training and Predictions\n",
    "from helper import (create_df_per_stock,\n",
    "                    run_for_stocks,\n",
    "                    get_best_configuration,\n",
    "                    final_df_cleaning,\n",
    "                    create_return_arrays,\n",
    "                    create_returns_for_cov, \n",
    "                    calculate_covariance_matrix)"
   ]
  },
  {
   "cell_type": "markdown",
   "metadata": {},
   "source": [
    "# Load Dataset"
   ]
  },
  {
   "cell_type": "code",
   "execution_count": 2,
   "metadata": {},
   "outputs": [],
   "source": [
    "# Load Data\n",
    "stock = pd.read_csv('../data/stocks_1.csv')\n",
    "stock_factor = pd.read_csv('../data/ratios_2.csv')\n",
    "macro = pd.read_csv('../data/bond_and_cpi.csv')"
   ]
  },
  {
   "cell_type": "code",
   "execution_count": 3,
   "metadata": {},
   "outputs": [
    {
     "name": "stderr",
     "output_type": "stream",
     "text": [
      "/var/folders/z8/18vf272n36z6tx1xm5tv3qvw0000gn/T/ipykernel_83623/1027556271.py:12: SettingWithCopyWarning: \n",
      "A value is trying to be set on a copy of a slice from a DataFrame\n",
      "\n",
      "See the caveats in the documentation: https://pandas.pydata.org/pandas-docs/stable/user_guide/indexing.html#returning-a-view-versus-a-copy\n",
      "  stock_use.drop(columns=['yymm'], inplace=True)\n"
     ]
    }
   ],
   "source": [
    "# Select stocks\n",
    "stock_avg = preprocess_stock_data(stock)\n",
    "# Clean financial ratios data\n",
    "stock_factor_1 = clean_financial_ratios(stock_avg, stock_factor)\n",
    "# Merge trading data and financial ratios data and select proper companies\n",
    "stock_all_final = merge_and_clean_data(stock_avg, stock_factor_1)\n",
    "# Select features that are meaningful and useful\n",
    "stock_final = filter_useful_features(stock_all_final)\n",
    "# Calculate momentum technical indicators\n",
    "stock_final_1 = stock_final.groupby('gvkey').apply(calculate_technical_indicators).reset_index(drop=True)\n",
    "stock_use = stock_final_1.dropna()\n",
    "stock_use.drop(columns=['yymm'], inplace=True)\n",
    "# Normalization\n",
    "stock_n = normalize_data(stock_use)\n",
    "# Save to CSV\n",
    "stock_n.to_csv('../data/normalized_data.csv', index=False)"
   ]
  },
  {
   "cell_type": "code",
   "execution_count": 4,
   "metadata": {},
   "outputs": [
    {
     "data": {
      "text/html": [
       "<div>\n",
       "<style scoped>\n",
       "    .dataframe tbody tr th:only-of-type {\n",
       "        vertical-align: middle;\n",
       "    }\n",
       "\n",
       "    .dataframe tbody tr th {\n",
       "        vertical-align: top;\n",
       "    }\n",
       "\n",
       "    .dataframe thead th {\n",
       "        text-align: right;\n",
       "    }\n",
       "</style>\n",
       "<table border=\"1\" class=\"dataframe\">\n",
       "  <thead>\n",
       "    <tr style=\"text-align: right;\">\n",
       "      <th></th>\n",
       "      <th>index</th>\n",
       "      <th>datadate</th>\n",
       "      <th>tic</th>\n",
       "      <th>cshtrm</th>\n",
       "      <th>prccm</th>\n",
       "      <th>prchm</th>\n",
       "      <th>prclm</th>\n",
       "      <th>trt1m</th>\n",
       "      <th>CAPEI</th>\n",
       "      <th>evm</th>\n",
       "      <th>...</th>\n",
       "      <th>high_low_ratio</th>\n",
       "      <th>RSI_14</th>\n",
       "      <th>MA_3</th>\n",
       "      <th>price_to_MA_3</th>\n",
       "      <th>return_momentum_6m</th>\n",
       "      <th>MA_6</th>\n",
       "      <th>return_momentum_9m</th>\n",
       "      <th>MA_9</th>\n",
       "      <th>return_momentum_12m</th>\n",
       "      <th>MA_12</th>\n",
       "    </tr>\n",
       "  </thead>\n",
       "  <tbody>\n",
       "    <tr>\n",
       "      <th>0</th>\n",
       "      <td>3388</td>\n",
       "      <td>2011-03-31</td>\n",
       "      <td>AMZN</td>\n",
       "      <td>0.057669</td>\n",
       "      <td>0.050441</td>\n",
       "      <td>0.047726</td>\n",
       "      <td>0.048270</td>\n",
       "      <td>0.449252</td>\n",
       "      <td>0.657229</td>\n",
       "      <td>0.104348</td>\n",
       "      <td>...</td>\n",
       "      <td>0.020950</td>\n",
       "      <td>0.687142</td>\n",
       "      <td>0.050675</td>\n",
       "      <td>0.673276</td>\n",
       "      <td>0.278596</td>\n",
       "      <td>0.050655</td>\n",
       "      <td>0.346955</td>\n",
       "      <td>0.046881</td>\n",
       "      <td>0.203680</td>\n",
       "      <td>151.274167</td>\n",
       "    </tr>\n",
       "    <tr>\n",
       "      <th>1</th>\n",
       "      <td>3389</td>\n",
       "      <td>2011-04-30</td>\n",
       "      <td>AMZN</td>\n",
       "      <td>0.055855</td>\n",
       "      <td>0.054863</td>\n",
       "      <td>0.052030</td>\n",
       "      <td>0.052741</td>\n",
       "      <td>0.479247</td>\n",
       "      <td>0.657454</td>\n",
       "      <td>0.104348</td>\n",
       "      <td>...</td>\n",
       "      <td>0.020388</td>\n",
       "      <td>0.751851</td>\n",
       "      <td>0.053232</td>\n",
       "      <td>0.698572</td>\n",
       "      <td>0.291211</td>\n",
       "      <td>0.052154</td>\n",
       "      <td>0.350194</td>\n",
       "      <td>0.049443</td>\n",
       "      <td>0.222852</td>\n",
       "      <td>156.166667</td>\n",
       "    </tr>\n",
       "    <tr>\n",
       "      <th>2</th>\n",
       "      <td>3390</td>\n",
       "      <td>2011-05-31</td>\n",
       "      <td>AMZN</td>\n",
       "      <td>0.051408</td>\n",
       "      <td>0.055111</td>\n",
       "      <td>0.054307</td>\n",
       "      <td>0.057432</td>\n",
       "      <td>0.427200</td>\n",
       "      <td>0.657571</td>\n",
       "      <td>0.104227</td>\n",
       "      <td>...</td>\n",
       "      <td>0.010842</td>\n",
       "      <td>0.721283</td>\n",
       "      <td>0.055518</td>\n",
       "      <td>0.671418</td>\n",
       "      <td>0.270170</td>\n",
       "      <td>0.053198</td>\n",
       "      <td>0.327768</td>\n",
       "      <td>0.051806</td>\n",
       "      <td>0.249207</td>\n",
       "      <td>162.102500</td>\n",
       "    </tr>\n",
       "    <tr>\n",
       "      <th>3</th>\n",
       "      <td>3391</td>\n",
       "      <td>2011-06-30</td>\n",
       "      <td>AMZN</td>\n",
       "      <td>0.046094</td>\n",
       "      <td>0.057310</td>\n",
       "      <td>0.054270</td>\n",
       "      <td>0.054622</td>\n",
       "      <td>0.449368</td>\n",
       "      <td>0.657700</td>\n",
       "      <td>0.104227</td>\n",
       "      <td>...</td>\n",
       "      <td>0.022005</td>\n",
       "      <td>0.734112</td>\n",
       "      <td>0.057899</td>\n",
       "      <td>0.669438</td>\n",
       "      <td>0.275018</td>\n",
       "      <td>0.054399</td>\n",
       "      <td>0.255807</td>\n",
       "      <td>0.053366</td>\n",
       "      <td>0.306600</td>\n",
       "      <td>170.038333</td>\n",
       "    </tr>\n",
       "    <tr>\n",
       "      <th>4</th>\n",
       "      <td>3392</td>\n",
       "      <td>2011-07-31</td>\n",
       "      <td>AMZN</td>\n",
       "      <td>0.044648</td>\n",
       "      <td>0.062395</td>\n",
       "      <td>0.059825</td>\n",
       "      <td>0.061283</td>\n",
       "      <td>0.479955</td>\n",
       "      <td>0.657969</td>\n",
       "      <td>0.104227</td>\n",
       "      <td>...</td>\n",
       "      <td>0.017924</td>\n",
       "      <td>0.825139</td>\n",
       "      <td>0.060509</td>\n",
       "      <td>0.699107</td>\n",
       "      <td>0.333047</td>\n",
       "      <td>0.056992</td>\n",
       "      <td>0.267572</td>\n",
       "      <td>0.055250</td>\n",
       "      <td>0.309609</td>\n",
       "      <td>178.757500</td>\n",
       "    </tr>\n",
       "  </tbody>\n",
       "</table>\n",
       "<p>5 rows × 67 columns</p>\n",
       "</div>"
      ],
      "text/plain": [
       "   index    datadate   tic    cshtrm     prccm     prchm     prclm     trt1m  \\\n",
       "0   3388  2011-03-31  AMZN  0.057669  0.050441  0.047726  0.048270  0.449252   \n",
       "1   3389  2011-04-30  AMZN  0.055855  0.054863  0.052030  0.052741  0.479247   \n",
       "2   3390  2011-05-31  AMZN  0.051408  0.055111  0.054307  0.057432  0.427200   \n",
       "3   3391  2011-06-30  AMZN  0.046094  0.057310  0.054270  0.054622  0.449368   \n",
       "4   3392  2011-07-31  AMZN  0.044648  0.062395  0.059825  0.061283  0.479955   \n",
       "\n",
       "      CAPEI       evm  ...  high_low_ratio    RSI_14      MA_3  price_to_MA_3  \\\n",
       "0  0.657229  0.104348  ...        0.020950  0.687142  0.050675       0.673276   \n",
       "1  0.657454  0.104348  ...        0.020388  0.751851  0.053232       0.698572   \n",
       "2  0.657571  0.104227  ...        0.010842  0.721283  0.055518       0.671418   \n",
       "3  0.657700  0.104227  ...        0.022005  0.734112  0.057899       0.669438   \n",
       "4  0.657969  0.104227  ...        0.017924  0.825139  0.060509       0.699107   \n",
       "\n",
       "   return_momentum_6m      MA_6  return_momentum_9m      MA_9  \\\n",
       "0            0.278596  0.050655            0.346955  0.046881   \n",
       "1            0.291211  0.052154            0.350194  0.049443   \n",
       "2            0.270170  0.053198            0.327768  0.051806   \n",
       "3            0.275018  0.054399            0.255807  0.053366   \n",
       "4            0.333047  0.056992            0.267572  0.055250   \n",
       "\n",
       "   return_momentum_12m       MA_12  \n",
       "0             0.203680  151.274167  \n",
       "1             0.222852  156.166667  \n",
       "2             0.249207  162.102500  \n",
       "3             0.306600  170.038333  \n",
       "4             0.309609  178.757500  \n",
       "\n",
       "[5 rows x 67 columns]"
      ]
     },
     "execution_count": 4,
     "metadata": {},
     "output_type": "execute_result"
    }
   ],
   "source": [
    "data = pd.read_csv(\"../data/normalized_data.csv\") # Load Dataset from File generated previously. \n",
    "data = final_df_cleaning(data) # Drop unnecessary columns and arrange data by ticker and dates\n",
    "tickers = data['tic'].unique() # Create a List of the Unique Stock Tickers\n",
    "data.head()"
   ]
  },
  {
   "cell_type": "code",
   "execution_count": 5,
   "metadata": {},
   "outputs": [
    {
     "data": {
      "text/plain": [
       "array(['AMZN', 'AVY', 'AXON', 'BBWI', 'BKNG', 'BLDR', 'CBRE', 'CDNS',\n",
       "       'CE', 'CF', 'CHD', 'CMCSA', 'CMS', 'CNC', 'COST', 'DECK', 'DLTR',\n",
       "       'EA', 'EQIX', 'FI', 'FICO', 'GOOGL', 'INCY', 'LULU', 'MA', 'MOH',\n",
       "       'NDAQ', 'NI', 'NVDA', 'ODFL', 'OKE', 'PKG', 'SBAC', 'STLD', 'TDG',\n",
       "       'TGT', 'TYL', 'UNH', 'URI', 'V', 'VLO', 'WST'], dtype=object)"
      ]
     },
     "execution_count": 5,
     "metadata": {},
     "output_type": "execute_result"
    }
   ],
   "source": [
    "tickers"
   ]
  },
  {
   "cell_type": "code",
   "execution_count": 6,
   "metadata": {},
   "outputs": [
    {
     "name": "stderr",
     "output_type": "stream",
     "text": [
      "/Users/talhajamal/Desktop/CodingProjects/LSTM_based_Portfolio_Optimization/src/helper.py:26: SettingWithCopyWarning: \n",
      "A value is trying to be set on a copy of a slice from a DataFrame.\n",
      "Try using .loc[row_indexer,col_indexer] = value instead\n",
      "\n",
      "See the caveats in the documentation: https://pandas.pydata.org/pandas-docs/stable/user_guide/indexing.html#returning-a-view-versus-a-copy\n",
      "  df['trt1m'] = df['trt1m'].shift(-1) # Shift Target Return up\n"
     ]
    }
   ],
   "source": [
    "# Dictionary to hold dataframe for each stock\n",
    "df_per_stock = create_df_per_stock(tickers=tickers, dataframe=data)"
   ]
  },
  {
   "cell_type": "markdown",
   "metadata": {},
   "source": [
    "# Hyperparameter Tuning for LSTMs and Return Predictions"
   ]
  },
  {
   "cell_type": "code",
   "execution_count": 7,
   "metadata": {},
   "outputs": [],
   "source": [
    "# Hyerparameters\n",
    "param_grid = {\n",
    "    'lstm_units': [100, 150],\n",
    "    'dense_units1': [50, 100, 150],\n",
    "    'dense_units2': [50, 75],\n",
    "    'batch_size': [32, 64],\n",
    "    'optimizer': ['adam']\n",
    "}"
   ]
  },
  {
   "cell_type": "code",
   "execution_count": 8,
   "metadata": {},
   "outputs": [],
   "source": [
    "# Only Run the below command when running a new model - otherwise use the saved data within the \n",
    "# past_results folder\n",
    "\n",
    "#models = run_for_stocks(tickers, df_per_stock, param_grid)"
   ]
  },
  {
   "cell_type": "code",
   "execution_count": 9,
   "metadata": {},
   "outputs": [
    {
     "data": {
      "text/plain": [
       "'\\nbest_configurations = get_best_configuration(tickers=tickers)\\nbest_configurations_df = pd.DataFrame(best_configurations).T.reset_index()\\nbest_configurations_df.columns = [\\'ticker\\',\\n                                  \\'lstm_units\\',\\n                                  \\'dense_units1\\',\\n                                  \\'dense_units2\\',\\n                                  \\'batch_size\\',\\n                                  \\'optimizer\\', \\n                                  \\'avg_val_mse\\']\\nbest_configurations_df\\nbest_configurations_df.to_csv(\"../results/best_configs.csv\")\\n'"
      ]
     },
     "execution_count": 9,
     "metadata": {},
     "output_type": "execute_result"
    }
   ],
   "source": [
    "# Get Best Configuration for each stock via the CSV files\n",
    "# Only run when you've finished running a new model above to confirm all best_configurations are saved\n",
    "# Otherwise use best_configs inside the past_results folder\n",
    "\"\"\"\n",
    "best_configurations = get_best_configuration(tickers=tickers)\n",
    "best_configurations_df = pd.DataFrame(best_configurations).T.reset_index()\n",
    "best_configurations_df.columns = ['ticker',\n",
    "                                  'lstm_units',\n",
    "                                  'dense_units1',\n",
    "                                  'dense_units2',\n",
    "                                  'batch_size',\n",
    "                                  'optimizer', \n",
    "                                  'avg_val_mse']\n",
    "best_configurations_df\n",
    "best_configurations_df.to_csv(\"../results/best_configs.csv\")\n",
    "\"\"\""
   ]
  },
  {
   "cell_type": "code",
   "execution_count": 10,
   "metadata": {},
   "outputs": [],
   "source": [
    "# Create a Numpy Array of Returns\n",
    "without_macro_features = \"../past_results/without_macro_data/\"\n",
    "with_macro_features = \"../past_results/with_macro_data/\"\n",
    "\n",
    "default_lstm_no_burning_window_12m = create_return_arrays(tickers=tickers,\n",
    "                                                          folder=f\"{without_macro_features}default_lstm_no_burning_window_12m\")\n",
    "default_lstm_with_burning_window_12m = create_return_arrays(tickers=tickers,\n",
    "                                                            folder=f\"{without_macro_features}default_lstm_burning_window_12m\")\n",
    "default_lstm_no_burning_window_3m = create_return_arrays(tickers=tickers,\n",
    "                                                         folder=f\"{without_macro_features}default_lstm_no_burning_window_3m\")\n",
    "default_lstm_with_burning_window_3m = create_return_arrays(tickers=tickers,\n",
    "                                                            folder=f\"{without_macro_features}default_lstm_with_burning_window_3m\")\n",
    "default_lstm_with_burning_window_6m = create_return_arrays(tickers=tickers,\n",
    "                                                           folder=f\"{without_macro_features}default_lstm_burning_window_6m\")"
   ]
  },
  {
   "cell_type": "markdown",
   "metadata": {},
   "source": [
    "# Covariance Matrix via Shrinkage"
   ]
  },
  {
   "cell_type": "code",
   "execution_count": 11,
   "metadata": {},
   "outputs": [],
   "source": [
    "# Each List below stores Matrix of Returns with Past Returns + Next Month's Return Predictions for each Month\n",
    "\n",
    "returns_data_12m_no_burning_window = create_returns_for_cov(df_per_stock=df_per_stock,\n",
    "                                      return_array=default_lstm_no_burning_window_12m)\n",
    "\n",
    "returns_data_12m_with_burning_window = create_returns_for_cov(df_per_stock=df_per_stock,\n",
    "                                      return_array=default_lstm_with_burning_window_12m)\n",
    "\n",
    "returns_data_3m_no_burning_window = create_returns_for_cov(df_per_stock=df_per_stock,\n",
    "                                      return_array=default_lstm_no_burning_window_3m)\n",
    "\n",
    "returns_data_3m_with_burning_window = create_returns_for_cov(df_per_stock=df_per_stock,\n",
    "                                      return_array=default_lstm_with_burning_window_3m)\n",
    "\n",
    "returns_data_6m_with_burning_window = create_returns_for_cov(df_per_stock=df_per_stock,\n",
    "                                      return_array=default_lstm_with_burning_window_6m)"
   ]
  },
  {
   "cell_type": "code",
   "execution_count": 12,
   "metadata": {},
   "outputs": [],
   "source": [
    "# Each List  below stores a 42 x 42 Covariance Matrix for each out of sample period for the relevant sequence size for each Month\n",
    "\n",
    "cov_matrices_12m_no_burning_window, shrinkages_12m_no_burning_window = calculate_covariance_matrix(returns_data_12m_no_burning_window)\n",
    "\n",
    "cov_matrices_12m_with_burning_window, shrinkages_12m_with_burning_window = calculate_covariance_matrix(returns_data_12m_with_burning_window)\n",
    "\n",
    "cov_matrices_3m_no_burning_window, shrinkages_3m_no_burning_window = calculate_covariance_matrix(returns_data_3m_no_burning_window)\n",
    "\n",
    "cov_matrices_3m_with_burning_window, shrinkages_3m_with_burning_window = calculate_covariance_matrix(returns_data_3m_with_burning_window)\n",
    "\n",
    "cov_matrices_6m_with_burning_window, shrinkages_6m_with_burning_window = calculate_covariance_matrix(returns_data_6m_with_burning_window)"
   ]
  },
  {
   "cell_type": "code",
   "execution_count": 13,
   "metadata": {},
   "outputs": [
    {
     "name": "stdout",
     "output_type": "stream",
     "text": [
      "The Shape of 12M No Burning Window Returns: (29, 42)\n",
      "The Length of the list of Cov Matrix for 12M No Burning Window Returns: 29\n",
      "----------------------------------------------------------------------------------\n",
      "The Shape of 12M With Burning Window Returns: (19, 42)\n",
      "The Length of the list of Cov Matrix for 12M with Burning Window Returns: 19\n",
      "----------------------------------------------------------------------------------\n",
      "The Shape of 3M No Burning Window Returns: (30, 42)\n",
      "The Length of the list of Cov Matrix for 3M No Burning Window Returns: 30\n",
      "----------------------------------------------------------------------------------\n",
      "The Shape of 3M With Burning Window Returns: (28, 42)\n",
      "The Length of the list of Cov Matrix for 3M with Burning Window Returns: 28\n",
      "----------------------------------------------------------------------------------\n",
      "The Shape of 6M With Burning Window Returns: (25, 42)\n",
      "The Length of the list of Cov Matrix for 6M with Burning Window Returns: 25\n"
     ]
    }
   ],
   "source": [
    "print(f\"The Shape of 12M No Burning Window Returns: {default_lstm_no_burning_window_12m.shape}\")\n",
    "print(f\"The Length of the list of Cov Matrix for 12M No Burning Window Returns: {len(cov_matrices_12m_no_burning_window)}\")\n",
    "print(\"----------------------------------------------------------------------------------\")\n",
    "\n",
    "print(f\"The Shape of 12M With Burning Window Returns: {default_lstm_with_burning_window_12m.shape}\")\n",
    "print(f\"The Length of the list of Cov Matrix for 12M with Burning Window Returns: {len(cov_matrices_12m_with_burning_window)}\")\n",
    "print(\"----------------------------------------------------------------------------------\")\n",
    "\n",
    "print(f\"The Shape of 3M No Burning Window Returns: {default_lstm_no_burning_window_3m.shape}\")\n",
    "print(f\"The Length of the list of Cov Matrix for 3M No Burning Window Returns: {len(cov_matrices_3m_no_burning_window)}\")\n",
    "print(\"----------------------------------------------------------------------------------\")\n",
    "\n",
    "print(f\"The Shape of 3M With Burning Window Returns: {default_lstm_with_burning_window_3m.shape}\")\n",
    "print(f\"The Length of the list of Cov Matrix for 3M with Burning Window Returns: {len(cov_matrices_3m_with_burning_window)}\")\n",
    "print(\"----------------------------------------------------------------------------------\")\n",
    "\n",
    "print(f\"The Shape of 6M With Burning Window Returns: {default_lstm_with_burning_window_6m.shape}\")\n",
    "print(f\"The Length of the list of Cov Matrix for 6M with Burning Window Returns: {len(cov_matrices_6m_with_burning_window)}\")\n"
   ]
  },
  {
   "cell_type": "markdown",
   "metadata": {},
   "source": [
    "# Mean Variance Portfolio Optimization"
   ]
  },
  {
   "cell_type": "code",
   "execution_count": null,
   "metadata": {},
   "outputs": [],
   "source": [
    "# Code of Kangjin"
   ]
  },
  {
   "cell_type": "markdown",
   "metadata": {},
   "source": [
    "# Backtesting Results"
   ]
  },
  {
   "cell_type": "code",
   "execution_count": null,
   "metadata": {},
   "outputs": [],
   "source": [
    "# Code of Kangjin"
   ]
  },
  {
   "cell_type": "markdown",
   "metadata": {},
   "source": [
    "# Use below Data for Presentation Slides"
   ]
  },
  {
   "cell_type": "code",
   "execution_count": null,
   "metadata": {},
   "outputs": [],
   "source": [
    "# Lets first try to get the model to run for 1 stock\n",
    "amzn = data[data['tic'] == 'AMZN'].iloc[:, :]\n",
    "y = amzn['trt1m'].values\n",
    "amzn.drop(columns=['trt1m'], inplace=True)\n",
    "X = amzn.iloc[:, 2:].values\n",
    "print(f\"The Shape of X Features is: {X.shape}\")\n",
    "print(f\"The Shape of y Features is: {y.shape}\")"
   ]
  },
  {
   "cell_type": "code",
   "execution_count": null,
   "metadata": {},
   "outputs": [],
   "source": [
    "sequence_length = 12 # Feed past 12 month returns into sequence for LSTM\n",
    "# Converting Features into 3D space for LSTM to add a time component\n",
    "X_features, y_target = [], []\n",
    "for i in range(X.shape[0] - sequence_length):\n",
    "    X_features.append(X[i:i+sequence_length])\n",
    "    y_target.append(y[i + sequence_length])\n",
    "X_features = np.array(X_features)\n",
    "y_target = np.array(y_target)\n",
    "\n",
    "print(f\"The Shape of X Features is: {X_features.shape}\")\n",
    "print(f\"The Shape of y Features is: {y_target.shape}\")"
   ]
  },
  {
   "cell_type": "code",
   "execution_count": null,
   "metadata": {},
   "outputs": [],
   "source": [
    "train_size = int(len(amzn) * 0.8)\n",
    "print(f\"The size of my training set will be : {train_size} and the test set will be : {int(len(amzn)) - train_size}\")\n",
    "X_train, y_train = X_features[:train_size], y_target[:train_size]\n",
    "y_train.reshape(-1, 1)\n",
    "print(f\"Shape of X_train: {X_train.shape}\")\n",
    "print(f\"Shape of y_train: {y_train.shape}\")\n",
    "X_test, y_test = X_features[train_size:], y_target[train_size:]\n",
    "y_target.reshape(-1, 1)\n",
    "print(f\"Shape of X_test: {X_test.shape}\")\n",
    "print(f\"Shape of y_test: {y_test.shape}\")"
   ]
  }
 ],
 "metadata": {
  "kernelspec": {
   "display_name": "Python 3 (ipykernel)",
   "language": "python",
   "name": "python3"
  },
  "language_info": {
   "codemirror_mode": {
    "name": "ipython",
    "version": 3
   },
   "file_extension": ".py",
   "mimetype": "text/x-python",
   "name": "python",
   "nbconvert_exporter": "python",
   "pygments_lexer": "ipython3",
   "version": "3.11.3"
  }
 },
 "nbformat": 4,
 "nbformat_minor": 2
}
