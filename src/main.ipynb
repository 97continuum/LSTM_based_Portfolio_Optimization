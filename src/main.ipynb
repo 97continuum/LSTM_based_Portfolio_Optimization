{
 "cells": [
  {
   "cell_type": "code",
   "execution_count": 2,
   "metadata": {},
   "outputs": [],
   "source": [
    "import numpy as np\n",
    "import pandas as pd\n",
    "from sklearn.preprocessing import MinMaxScaler\n",
    "import matplotlib.pyplot as plt\n",
    "from lstm_class import Lstm\n",
    "from sklearn.metrics import mean_squared_error"
   ]
  },
  {
   "cell_type": "markdown",
   "metadata": {},
   "source": [
    "# Load Dataset"
   ]
  },
  {
   "cell_type": "code",
   "execution_count": 8,
   "metadata": {},
   "outputs": [
    {
     "data": {
      "text/html": [
       "<div>\n",
       "<style scoped>\n",
       "    .dataframe tbody tr th:only-of-type {\n",
       "        vertical-align: middle;\n",
       "    }\n",
       "\n",
       "    .dataframe tbody tr th {\n",
       "        vertical-align: top;\n",
       "    }\n",
       "\n",
       "    .dataframe thead th {\n",
       "        text-align: right;\n",
       "    }\n",
       "</style>\n",
       "<table border=\"1\" class=\"dataframe\">\n",
       "  <thead>\n",
       "    <tr style=\"text-align: right;\">\n",
       "      <th></th>\n",
       "      <th>index</th>\n",
       "      <th>datadate</th>\n",
       "      <th>tic</th>\n",
       "      <th>cshtrm</th>\n",
       "      <th>prccm</th>\n",
       "      <th>prchm</th>\n",
       "      <th>prclm</th>\n",
       "      <th>trt1m</th>\n",
       "      <th>CAPEI</th>\n",
       "      <th>evm</th>\n",
       "      <th>...</th>\n",
       "      <th>high_low_ratio</th>\n",
       "      <th>RSI_14</th>\n",
       "      <th>MA_3</th>\n",
       "      <th>price_to_MA_3</th>\n",
       "      <th>return_momentum_6m</th>\n",
       "      <th>MA_6</th>\n",
       "      <th>return_momentum_9m</th>\n",
       "      <th>MA_9</th>\n",
       "      <th>return_momentum_12m</th>\n",
       "      <th>MA_12</th>\n",
       "    </tr>\n",
       "  </thead>\n",
       "  <tbody>\n",
       "    <tr>\n",
       "      <th>0</th>\n",
       "      <td>22</td>\n",
       "      <td>2011-03-31</td>\n",
       "      <td>AMZN</td>\n",
       "      <td>0.057669</td>\n",
       "      <td>0.050441</td>\n",
       "      <td>0.047726</td>\n",
       "      <td>0.048270</td>\n",
       "      <td>0.449252</td>\n",
       "      <td>0.657229</td>\n",
       "      <td>0.104348</td>\n",
       "      <td>...</td>\n",
       "      <td>0.020950</td>\n",
       "      <td>0.599129</td>\n",
       "      <td>0.050675</td>\n",
       "      <td>0.673276</td>\n",
       "      <td>0.278596</td>\n",
       "      <td>0.050655</td>\n",
       "      <td>0.346955</td>\n",
       "      <td>0.046881</td>\n",
       "      <td>0.203680</td>\n",
       "      <td>0.044979</td>\n",
       "    </tr>\n",
       "    <tr>\n",
       "      <th>1</th>\n",
       "      <td>64</td>\n",
       "      <td>2011-04-30</td>\n",
       "      <td>AMZN</td>\n",
       "      <td>0.055855</td>\n",
       "      <td>0.054863</td>\n",
       "      <td>0.052030</td>\n",
       "      <td>0.052741</td>\n",
       "      <td>0.479247</td>\n",
       "      <td>0.657454</td>\n",
       "      <td>0.104348</td>\n",
       "      <td>...</td>\n",
       "      <td>0.020388</td>\n",
       "      <td>0.647066</td>\n",
       "      <td>0.053232</td>\n",
       "      <td>0.698572</td>\n",
       "      <td>0.291211</td>\n",
       "      <td>0.052154</td>\n",
       "      <td>0.350194</td>\n",
       "      <td>0.049443</td>\n",
       "      <td>0.222852</td>\n",
       "      <td>0.046454</td>\n",
       "    </tr>\n",
       "    <tr>\n",
       "      <th>2</th>\n",
       "      <td>106</td>\n",
       "      <td>2011-05-31</td>\n",
       "      <td>AMZN</td>\n",
       "      <td>0.051408</td>\n",
       "      <td>0.055111</td>\n",
       "      <td>0.054307</td>\n",
       "      <td>0.057432</td>\n",
       "      <td>0.427200</td>\n",
       "      <td>0.657571</td>\n",
       "      <td>0.104227</td>\n",
       "      <td>...</td>\n",
       "      <td>0.010842</td>\n",
       "      <td>0.669937</td>\n",
       "      <td>0.055518</td>\n",
       "      <td>0.671418</td>\n",
       "      <td>0.270170</td>\n",
       "      <td>0.053198</td>\n",
       "      <td>0.327768</td>\n",
       "      <td>0.051806</td>\n",
       "      <td>0.249207</td>\n",
       "      <td>0.048244</td>\n",
       "    </tr>\n",
       "    <tr>\n",
       "      <th>3</th>\n",
       "      <td>148</td>\n",
       "      <td>2011-06-30</td>\n",
       "      <td>AMZN</td>\n",
       "      <td>0.046094</td>\n",
       "      <td>0.057310</td>\n",
       "      <td>0.054270</td>\n",
       "      <td>0.054622</td>\n",
       "      <td>0.449368</td>\n",
       "      <td>0.657700</td>\n",
       "      <td>0.104227</td>\n",
       "      <td>...</td>\n",
       "      <td>0.022005</td>\n",
       "      <td>0.668990</td>\n",
       "      <td>0.057899</td>\n",
       "      <td>0.669438</td>\n",
       "      <td>0.275018</td>\n",
       "      <td>0.054399</td>\n",
       "      <td>0.255807</td>\n",
       "      <td>0.053366</td>\n",
       "      <td>0.306600</td>\n",
       "      <td>0.050637</td>\n",
       "    </tr>\n",
       "    <tr>\n",
       "      <th>4</th>\n",
       "      <td>190</td>\n",
       "      <td>2011-07-31</td>\n",
       "      <td>AMZN</td>\n",
       "      <td>0.044648</td>\n",
       "      <td>0.062395</td>\n",
       "      <td>0.059825</td>\n",
       "      <td>0.061283</td>\n",
       "      <td>0.479955</td>\n",
       "      <td>0.657969</td>\n",
       "      <td>0.104227</td>\n",
       "      <td>...</td>\n",
       "      <td>0.017924</td>\n",
       "      <td>0.721217</td>\n",
       "      <td>0.060509</td>\n",
       "      <td>0.699107</td>\n",
       "      <td>0.333047</td>\n",
       "      <td>0.056992</td>\n",
       "      <td>0.267572</td>\n",
       "      <td>0.055250</td>\n",
       "      <td>0.309609</td>\n",
       "      <td>0.053266</td>\n",
       "    </tr>\n",
       "  </tbody>\n",
       "</table>\n",
       "<p>5 rows × 67 columns</p>\n",
       "</div>"
      ],
      "text/plain": [
       "   index    datadate   tic    cshtrm     prccm     prchm     prclm     trt1m  \\\n",
       "0     22  2011-03-31  AMZN  0.057669  0.050441  0.047726  0.048270  0.449252   \n",
       "1     64  2011-04-30  AMZN  0.055855  0.054863  0.052030  0.052741  0.479247   \n",
       "2    106  2011-05-31  AMZN  0.051408  0.055111  0.054307  0.057432  0.427200   \n",
       "3    148  2011-06-30  AMZN  0.046094  0.057310  0.054270  0.054622  0.449368   \n",
       "4    190  2011-07-31  AMZN  0.044648  0.062395  0.059825  0.061283  0.479955   \n",
       "\n",
       "      CAPEI       evm  ...  high_low_ratio    RSI_14      MA_3  price_to_MA_3  \\\n",
       "0  0.657229  0.104348  ...        0.020950  0.599129  0.050675       0.673276   \n",
       "1  0.657454  0.104348  ...        0.020388  0.647066  0.053232       0.698572   \n",
       "2  0.657571  0.104227  ...        0.010842  0.669937  0.055518       0.671418   \n",
       "3  0.657700  0.104227  ...        0.022005  0.668990  0.057899       0.669438   \n",
       "4  0.657969  0.104227  ...        0.017924  0.721217  0.060509       0.699107   \n",
       "\n",
       "   return_momentum_6m      MA_6  return_momentum_9m      MA_9  \\\n",
       "0            0.278596  0.050655            0.346955  0.046881   \n",
       "1            0.291211  0.052154            0.350194  0.049443   \n",
       "2            0.270170  0.053198            0.327768  0.051806   \n",
       "3            0.275018  0.054399            0.255807  0.053366   \n",
       "4            0.333047  0.056992            0.267572  0.055250   \n",
       "\n",
       "   return_momentum_12m     MA_12  \n",
       "0             0.203680  0.044979  \n",
       "1             0.222852  0.046454  \n",
       "2             0.249207  0.048244  \n",
       "3             0.306600  0.050637  \n",
       "4             0.309609  0.053266  \n",
       "\n",
       "[5 rows x 67 columns]"
      ]
     },
     "execution_count": 8,
     "metadata": {},
     "output_type": "execute_result"
    }
   ],
   "source": [
    "std_stocks = pd.read_csv(\"../data/stock_standard_1.csv\").iloc[:, 3:] # Drop the First Three Columns\n",
    "std_stocks = std_stocks.sort_values(by=['tic', 'datadate'])\n",
    "std_stocks.drop(columns=['conm', 'gsector'], inplace=True)\n",
    "std_stocks.reset_index(inplace=True)\n",
    "stock_names = std_stocks['tic'].unique()\n",
    "std_stocks.head()"
   ]
  },
  {
   "cell_type": "code",
   "execution_count": null,
   "metadata": {},
   "outputs": [],
   "source": [
    "X = []\n",
    "y = []"
   ]
  },
  {
   "cell_type": "code",
   "execution_count": null,
   "metadata": {},
   "outputs": [],
   "source": [
    "unique_stocks = df['tic'].unique()\n",
    "unique_stocks"
   ]
  },
  {
   "cell_type": "code",
   "execution_count": null,
   "metadata": {},
   "outputs": [],
   "source": []
  },
  {
   "cell_type": "code",
   "execution_count": null,
   "metadata": {},
   "outputs": [],
   "source": [
    "df = norm_stocks.sort_values(by=['tic', 'datadate'])\n",
    "\n",
    "X = []\n",
    "y = []\n",
    "\n",
    "unique_stocks = df[stock_id_col].unique()\n",
    "\n",
    "for stock in unique_stocks:\n",
    "    stock_data = df[df[stock_id_col] == stock]\n",
    "    stock_features = stock_data[feature_cols].values\n",
    "    stock_targets = stock_data[target_col].values\n",
    "\n",
    "    for i in range(len(stock_data) - sequence_length):\n",
    "        X.append(stock_features[i:i + sequence_length])\n",
    "        y.append(stock_targets[i + sequence_length])\n",
    "\n",
    "X = np.array(X)\n",
    "y = np.array(y)"
   ]
  },
  {
   "cell_type": "markdown",
   "metadata": {},
   "source": [
    "# Prepare Data for each asset"
   ]
  },
  {
   "cell_type": "code",
   "execution_count": null,
   "metadata": {},
   "outputs": [],
   "source": [
    "# Create Sequential Data\n",
    "def create_sequential_data(data, sequence_length = 7):\n",
    "    X_sequential, y_sequential = [], []\n",
    "    for i in range(len(data) - sequence_length):\n",
    "        X_sequential.append(data[i:i+sequence_length])\n",
    "        y_sequential.append(data[i+sequence_length])\n",
    "        return np.array(X_sequential), np.array(y_sequential)\n",
    "    \n",
    "X, y = create_sequential_data(returns_data_scaled, sequence_length=7)"
   ]
  },
  {
   "cell_type": "code",
   "execution_count": null,
   "metadata": {},
   "outputs": [],
   "source": [
    "X.shape"
   ]
  },
  {
   "cell_type": "code",
   "execution_count": null,
   "metadata": {},
   "outputs": [],
   "source": [
    "y"
   ]
  },
  {
   "cell_type": "code",
   "execution_count": null,
   "metadata": {},
   "outputs": [],
   "source": [
    "train_size = int(len(returns_data_scaled) * 0.7)\n",
    "X_train, y_test = X[:train_size], y[train_size:]\n",
    "X_test, y_test = X[train_size:], y[]"
   ]
  },
  {
   "cell_type": "code",
   "execution_count": null,
   "metadata": {},
   "outputs": [],
   "source": [
    "# Split the data into train and test sets (70% train, 30% test)\n",
    "train_size = int(len(returns_data_scaled) * 0.7)\n",
    "train, test = returns_data_scaled[:train_size], returns_data_scaled[train_size:]\n",
    "\n",
    "# Function to create sequences\n",
    "def create_sequences(data, sequence_length=7):\n",
    "    X, y = [], []\n",
    "    for i in range(len(data) - sequence_length - 1):\n",
    "        X.append(data[i:(i + sequence_length), 0])\n",
    "        y.append(data[i + sequence_length, 0])\n",
    "    return np.array(X), np.array(y)"
   ]
  },
  {
   "cell_type": "code",
   "execution_count": null,
   "metadata": {},
   "outputs": [],
   "source": [
    "X_train, y_train = create_sequences(train, sequence_length=7)\n",
    "print(f\"Shape of X_train: {X_train.shape}\")\n",
    "print(f\"Shape of y_train: {y_train.shape}\")"
   ]
  },
  {
   "cell_type": "code",
   "execution_count": null,
   "metadata": {},
   "outputs": [],
   "source": [
    "X_train[:, 0]"
   ]
  },
  {
   "cell_type": "code",
   "execution_count": null,
   "metadata": {},
   "outputs": [],
   "source": [
    "X_train[]"
   ]
  },
  {
   "cell_type": "code",
   "execution_count": null,
   "metadata": {},
   "outputs": [],
   "source": [
    "# Train Models for each Stock\n",
    "models = {}\n",
    "sequence_length = 7 # 70 Day Return Data\n",
    "for i in range(num_stocks):\n",
    "    stock_data = train[:, i].reshape(-1, 1) # Convert 1D array to 2D Vector\n",
    "    lstm_model = Lstm(input_shape=(sequence_length, 1))\n",
    "    X_train, y_train = create_sequences(stock_data, sequence_length)\n",
    "    print(f\"Shape of X_train: {X_train.shape}\")\n",
    "    print(f\"Shape of y_train: {y_train.shape}\")\n",
    "    lstm_model.fit(X_train, y_train)\n",
    "    models[i] = lstm_model"
   ]
  },
  {
   "cell_type": "code",
   "execution_count": null,
   "metadata": {},
   "outputs": [],
   "source": [
    "# Store MSE\n",
    "mse = {}\n",
    "# Function to predict returns\n",
    "def predict_returns(models, data, sequence_length=7):\n",
    "    predicted_returns = []\n",
    "    for i in range(num_stocks):\n",
    "        model = models[i]\n",
    "        stock_data = data[:, i].reshape(-1, 1)\n",
    "        X_test, y_test = create_sequences(stock_data, sequence_length)\n",
    "        #print(f\"For Stock {i + 1} Shape of X_test: {X_test.shape}\")\n",
    "        #print(f\"For Stock {i + 1} Shape of y_test: {y_test.shape}\")\n",
    "        predicted_return = model.model.predict(X_test)\n",
    "        #print(f\"For Stock {i + 1} Shape of predicted_return: {predicted_return.shape}\")\n",
    "        mse_ = mean_squared_error(y_test, predicted_return.flatten())\n",
    "        print(f\"For Stock {i + 1} the MSE is {mse_}\")\n",
    "        mse[i] = mse_\n",
    "        predicted_returns.append(predicted_return.flatten())\n",
    "    return np.array(predicted_returns).T\n",
    "\n",
    "# Predict returns using the LSTM models\n",
    "predicted_returns = predict_returns(models, test, sequence_length)\n",
    "# Rescale the predicted returns to original scale\n",
    "#predicted_returns = scaler.inverse_transform(predicted_returns)\n",
    "print(mse)"
   ]
  },
  {
   "cell_type": "code",
   "execution_count": null,
   "metadata": {},
   "outputs": [],
   "source": [
    "predicted_returns[:, 0]"
   ]
  },
  {
   "cell_type": "code",
   "execution_count": null,
   "metadata": {},
   "outputs": [],
   "source": [
    "test[7:, :][:, 0]"
   ]
  },
  {
   "cell_type": "code",
   "execution_count": null,
   "metadata": {},
   "outputs": [],
   "source": [
    "plt.figure(figsize=(12, 6))\n",
    "plt.plot((1 + test[7:, :][:, 0]).cumprod(), label='Actual Returns')\n",
    "plt.plot((1 + predicted_returns[:, 0]).cumprod(), label='Predicted Returns')\n",
    "plt.title(f'Predicted vs Actual Returns for Stock 1')\n",
    "plt.xlabel('Days')\n",
    "plt.ylabel('Returns')\n",
    "plt.legend()\n",
    "plt.show()"
   ]
  },
  {
   "cell_type": "code",
   "execution_count": null,
   "metadata": {},
   "outputs": [],
   "source": [
    "# Plot predicted vs actual returns for a single stock\n",
    "stock_index = 1  # Change this index to plot for a different stock\n",
    "actual_returns = scaler.inverse_transform(test[sequence_length:])[:, stock_index]\n",
    "\n",
    "plt.figure(figsize=(12, 6))\n",
    "plt.plot(actual_returns, label='Actual Returns')\n",
    "plt.plot(predicted_returns[:, stock_index], label='Predicted Returns')\n",
    "plt.title(f'Predicted vs Actual Returns for Stock {stock_index + 1}')\n",
    "plt.xlabel('Days')\n",
    "plt.ylabel('Returns')\n",
    "plt.legend()\n",
    "plt.show()"
   ]
  },
  {
   "cell_type": "code",
   "execution_count": null,
   "metadata": {},
   "outputs": [],
   "source": [
    "100 * (1 + actual_returns).cumprod()"
   ]
  },
  {
   "cell_type": "code",
   "execution_count": null,
   "metadata": {},
   "outputs": [],
   "source": [
    "100 * (1 + predicted_returns[:, stock_index]).cumprod()"
   ]
  },
  {
   "cell_type": "code",
   "execution_count": null,
   "metadata": {},
   "outputs": [],
   "source": [
    "# Plot the actual vs predicted prices for the first asset\n",
    "plt.figure(figsize=(12, 6))\n",
    "plt.plot(actual_returns, label='Actual Returns')\n",
    "plt.plot(predicted_returns[:, stock_index], label='Predicted Returns')\n",
    "plt.title('Actual vs Predicted Returns of the First Asset')\n",
    "plt.xlabel('Days')\n",
    "plt.ylabel('Price')\n",
    "plt.legend()\n",
    "plt.show()"
   ]
  },
  {
   "cell_type": "code",
   "execution_count": null,
   "metadata": {},
   "outputs": [],
   "source": [
    "# Plot the actual vs predicted prices for the first asset\n",
    "plt.figure(figsize=(12, 6))\n",
    "plt.plot(100 * (1 + actual_returns).cumprod(), label='Actual Prices')\n",
    "plt.plot(100 * (1 + predicted_returns[:, stock_index]).cumprod(), label='Predicted Prices')\n",
    "plt.title('Actual vs Predicted Prices of the First Asset')\n",
    "plt.xlabel('Days')\n",
    "plt.ylabel('Price')\n",
    "plt.legend()\n",
    "plt.show()"
   ]
  },
  {
   "cell_type": "code",
   "execution_count": null,
   "metadata": {},
   "outputs": [],
   "source": []
  }
 ],
 "metadata": {
  "kernelspec": {
   "display_name": "venv",
   "language": "python",
   "name": "python3"
  },
  "language_info": {
   "codemirror_mode": {
    "name": "ipython",
    "version": 3
   },
   "file_extension": ".py",
   "mimetype": "text/x-python",
   "name": "python",
   "nbconvert_exporter": "python",
   "pygments_lexer": "ipython3",
   "version": "3.11.3"
  }
 },
 "nbformat": 4,
 "nbformat_minor": 2
}
