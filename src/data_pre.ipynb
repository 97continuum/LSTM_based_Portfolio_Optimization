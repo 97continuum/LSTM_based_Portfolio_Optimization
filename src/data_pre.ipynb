{
 "cells": [
  {
   "cell_type": "code",
   "execution_count": 73,
   "id": "8d22340a",
   "metadata": {},
   "outputs": [
    {
     "name": "stderr",
     "output_type": "stream",
     "text": [
      "C:\\Users\\13370\\AppData\\Local\\Temp\\ipykernel_83796\\435831286.py:5: DeprecationWarning: Please use `shift` from the `scipy.ndimage` namespace, the `scipy.ndimage.interpolation` namespace is deprecated.\n",
      "  from scipy.ndimage.interpolation import shift\n"
     ]
    }
   ],
   "source": [
    "# Loading packages\n",
    "import pandas as pd\n",
    "import numpy as np\n",
    "from sklearn.preprocessing import StandardScaler, MinMaxScaler\n",
    "from scipy.ndimage.interpolation import shift\n",
    "from sklearn.ensemble import RandomForestRegressor\n",
    "from sklearn.linear_model import LassoCV\n",
    "from statsmodels.tsa.api import SimpleExpSmoothing, ExponentialSmoothing, Holt\n",
    "from function_2 import calculate_technical_indicators\n"
   ]
  },
  {
   "cell_type": "code",
   "execution_count": 66,
   "id": "4d4cc0df",
   "metadata": {},
   "outputs": [],
   "source": [
    "# Load Data\n",
    "stock = pd.read_csv('stocks_1.csv')\n",
    "stock_factor = pd.read_csv('ratios_2.csv')\n",
    "\n"
   ]
  },
  {
   "cell_type": "code",
   "execution_count": 67,
   "id": "1b8acbf8",
   "metadata": {},
   "outputs": [],
   "source": [
    "# Data typr and unit processing\n",
    "stock['trt1m'] = stock['trt1m'] / 100\n",
    "stock['datadate'] = pd.to_datetime(stock['datadate'])\n",
    "\n",
    "# Summary of stocks\n",
    "stock_summary = stock.groupby('tic').size().reset_index(name='number')\n",
    "stock_summary = stock_summary[stock_summary['number'] == 168]\n"
   ]
  },
  {
   "cell_type": "code",
   "execution_count": 68,
   "id": "23305e1b",
   "metadata": {},
   "outputs": [],
   "source": [
    "# Stocks that experienced a consecutive three-day decline in the last seven days are ruled out\n",
    "stock_1 = stock[stock['tic'].isin(stock_summary['tic'])].copy()\n",
    "stock_1 = (stock_1.sort_values(['tic', 'datadate'])\n",
    "                        .groupby('tic')\n",
    "                        .apply(lambda x: x.tail(9))\n",
    "                        .reset_index(drop=True))\n",
    "stock_1['consecutive_neg'] = (stock_1.groupby('tic')['trt1m']\n",
    "                                 .transform(lambda x: x.shift(2) < 0) &\n",
    "                                 stock_1.groupby('tic')['trt1m']\n",
    "                                 .transform(lambda x: x.shift(1) < 0) &\n",
    "                                 (stock_1['trt1m'] < 0))\n",
    "stock_summary_exclude = (stock_1.groupby('tic')\n",
    "                         .agg(exclude=('consecutive_neg', 'any'))\n",
    "                         .reset_index())\n",
    "stock_1_tics = stock_summary_exclude[~stock_summary_exclude['exclude']]['tic']\n",
    "\n"
   ]
  },
  {
   "cell_type": "code",
   "execution_count": 69,
   "id": "1013e06e",
   "metadata": {},
   "outputs": [
    {
     "name": "stdout",
     "output_type": "stream",
     "text": [
      "        gvkey iid   datadate   tic                 conm  gsector      cshtrm  \\\n",
      "3672     1913  01 2010-01-31   AVY  AVERY DENNISON CORP       15  28154607.0   \n",
      "3673     1913  01 2010-02-28   AVY  AVERY DENNISON CORP       15  35229672.0   \n",
      "3674     1913  01 2010-03-31   AVY  AVERY DENNISON CORP       15  38125453.0   \n",
      "3675     1913  01 2010-04-30   AVY  AVERY DENNISON CORP       15  33253040.0   \n",
      "3676     1913  01 2010-05-31   AVY  AVERY DENNISON CORP       15  33787043.0   \n",
      "...       ...  ..        ...   ...                  ...      ...         ...   \n",
      "84470  260774  01 2023-08-31  CBRE       CBRE GROUP INC       60  28351879.0   \n",
      "84471  260774  01 2023-09-30  CBRE       CBRE GROUP INC       60  39349430.0   \n",
      "84472  260774  01 2023-10-31  CBRE       CBRE GROUP INC       60  36205971.0   \n",
      "84473  260774  01 2023-11-30  CBRE       CBRE GROUP INC       60  34798008.0   \n",
      "84474  260774  01 2023-12-31  CBRE       CBRE GROUP INC       60  33954395.0   \n",
      "\n",
      "       prccm   prchm  prclm     trt1m     yymm  \n",
      "3672   32.51  40.230  32.48 -0.109071  2010-01  \n",
      "3673   31.60  34.190  30.82 -0.027991  2010-02  \n",
      "3674   36.41  36.620  30.22  0.158544  2010-03  \n",
      "3675   39.03  43.330  36.01  0.071958  2010-04  \n",
      "3676   34.18  39.455  32.56 -0.119139  2010-05  \n",
      "...      ...     ...    ...       ...      ...  \n",
      "84470  85.05  85.930  80.59  0.020886  2023-08  \n",
      "84471  73.86  86.970  72.12 -0.131570  2023-09  \n",
      "84472  69.34  74.420  64.63 -0.061197  2023-10  \n",
      "84473  78.96  80.735  68.72  0.138737  2023-11  \n",
      "84474  93.09  94.270  78.98  0.178951  2023-12  \n",
      "\n",
      "[7392 rows x 12 columns]\n"
     ]
    }
   ],
   "source": [
    "# Calculate average returns\n",
    "stock_2 = stock[stock['tic'].isin(stock_1_tics)].copy()\n",
    "stock_2.dropna(subset=['trt1m'], inplace=True)\n",
    "stock_2 = stock_2.groupby('tic').head(135)\n",
    "stock_2['avg'] = stock_2.groupby('tic')['trt1m'].transform('mean')\n",
    "stock_2 = stock_2.groupby('tic').tail(1).reset_index(drop=True)\n",
    "stock_2.sort_values(by='avg', ascending=False, inplace=True)\n",
    "\n",
    "# Select stocks tickers based on average returns\n",
    "avg_base_select = []\n",
    "count = np.zeros(100)\n",
    "gic_all = stock_2['gsector'].unique()\n",
    "\n",
    "for i in range(277):\n",
    "    gic_index = stock_2.iloc[i]['gsector']\n",
    "    count[gic_index] += 1\n",
    "    if count[gic_index] > 5:\n",
    "        continue\n",
    "    avg_base_select.append(stock_2.iloc[i]['tic'])\n",
    "    if all(count[gic_all] >= 2):\n",
    "        break\n",
    "\n",
    "# Select stocks\n",
    "stock_avg = stock[stock['tic'].isin(avg_base_select)].dropna()\n",
    "stock_avg['yymm'] = stock_avg['datadate'].dt.to_period('M')\n",
    "\n",
    "print(stock_avg)"
   ]
  },
  {
   "cell_type": "code",
   "execution_count": 70,
   "id": "7e488a0f",
   "metadata": {},
   "outputs": [
    {
     "name": "stdout",
     "output_type": "stream",
     "text": [
      "        gvkey  permno public_date   CAPEI     bm     evm  pe_op_dil  pe_exi  \\\n",
      "840     12635   10696  2009-01-31  12.047  0.437  13.152      3.065   3.544   \n",
      "841     12635   10696  2009-02-28  12.088  0.551   8.119     12.450  15.387   \n",
      "842     12635   10696  2009-03-31  13.494  0.551   8.119     13.916  17.198   \n",
      "843     12635   10696  2009-04-30  13.812  0.551   8.119     14.244  17.604   \n",
      "844     12635   10696  2009-05-31  15.910  0.570  10.578      3.809   4.686   \n",
      "...       ...     ...         ...     ...    ...     ...        ...     ...   \n",
      "71989  180711   93002  2022-08-31  36.862  0.093  15.494     24.053  24.733   \n",
      "71990  180711   93002  2022-09-30  30.171  0.096  14.607     18.766  19.180   \n",
      "71991  180711   93002  2022-10-31  32.971  0.096  14.607     19.870  20.308   \n",
      "71992  180711   93002  2022-11-30  38.635  0.096  14.607     23.290  23.803   \n",
      "71993  180711   93002  2022-12-31  32.267  0.116  12.260     20.663  21.075   \n",
      "\n",
      "          ps     pcf  ...  sale_nwc  rd_sale  adv_sale  staff_sale  accrual  \\\n",
      "840    1.064   3.538  ...    12.005    0.000       0.0         0.0   -0.107   \n",
      "841    1.073   3.527  ...    48.357    0.000       0.0         0.0   -0.104   \n",
      "842    1.198   3.937  ...    48.357    0.000       0.0         0.0   -0.104   \n",
      "843    1.226   4.030  ...    48.357    0.000       0.0         0.0   -0.104   \n",
      "844    1.517   8.249  ...    14.931    0.000       0.0         0.0   -0.045   \n",
      "...      ...     ...  ...       ...      ...       ...         ...      ...   \n",
      "71989  6.739  13.648  ...     3.297    0.162       0.0         0.0   -0.079   \n",
      "71990  5.676  11.458  ...     3.508    0.155       0.0         0.0   -0.076   \n",
      "71991  6.203  12.521  ...     3.508    0.155       0.0         0.0   -0.076   \n",
      "71992  7.269  14.672  ...     3.508    0.155       0.0         0.0   -0.076   \n",
      "71993  7.037  13.961  ...     2.899    0.148       0.0         0.0   -0.070   \n",
      "\n",
      "          ptb  PEG_trailing  divyield  TICKER     yymm  \n",
      "840     1.483           NaN       NaN    FISV  2009-01  \n",
      "841     1.628           NaN       NaN    FISV  2009-02  \n",
      "842     1.817           NaN       NaN    FISV  2009-03  \n",
      "843     1.860           NaN       NaN    FISV  2009-04  \n",
      "844     2.037           NaN       NaN    FISV  2009-05  \n",
      "...       ...           ...       ...     ...      ...  \n",
      "71989   9.643         0.499     3.29%    AVGO  2022-08  \n",
      "71990   8.614         0.289     3.69%    AVGO  2022-09  \n",
      "71991   9.413         0.306     3.49%    AVGO  2022-10  \n",
      "71992  11.030         0.359     2.98%    AVGO  2022-11  \n",
      "71993  10.289         0.298     3.29%    AVGO  2022-12  \n",
      "\n",
      "[6987 rows x 72 columns]\n",
      "Index(['CAPEI', 'bm', 'evm', 'pe_op_dil', 'pe_exi', 'ps', 'pcf', 'dpr', 'npm',\n",
      "       'opmbd', 'opmad', 'gpm', 'ptpm', 'cfm', 'roa', 'roe', 'roce', 'efftax',\n",
      "       'aftret_eq', 'aftret_invcapx', 'aftret_equity', 'pretret_noa',\n",
      "       'pretret_earnat', 'GProf', 'equity_invcap', 'debt_invcap',\n",
      "       'totdebt_invcap', 'capital_ratio', 'int_debt', 'int_totdebt', 'cash_lt',\n",
      "       'invt_act', 'rect_act', 'debt_at', 'debt_ebitda', 'short_debt',\n",
      "       'curr_debt', 'lt_debt', 'profit_lct', 'ocf_lct', 'cash_debt', 'fcf_ocf',\n",
      "       'lt_ppent', 'dltt_be', 'debt_assets', 'debt_capital', 'de_ratio',\n",
      "       'intcov', 'intcov_ratio', 'cash_ratio', 'quick_ratio', 'curr_ratio',\n",
      "       'cash_conversion', 'inv_turn', 'at_turn', 'rect_turn', 'pay_turn',\n",
      "       'sale_invcap', 'sale_equity', 'sale_nwc', 'rd_sale', 'adv_sale',\n",
      "       'staff_sale', 'accrual', 'ptb', 'PEG_trailing', 'divyield'],\n",
      "      dtype='object')\n"
     ]
    }
   ],
   "source": [
    "# Clean financial ratios data\n",
    "stock_factor_1 = stock_factor.drop(columns=[stock_factor.columns[2], stock_factor.columns[3]])\n",
    "stock_factor_1 = stock_factor_1[stock_factor_1['gvkey'].isin(stock_avg['gvkey'])]\n",
    "stock_factor_1['yymm'] = pd.to_datetime(stock_factor_1['public_date']).dt.to_period('M')\n",
    "col_to_fill = stock_factor_1.columns[3:70]\n",
    "\n",
    "print(stock_factor_1)\n",
    "print(col_to_fill)"
   ]
  },
  {
   "cell_type": "code",
   "execution_count": 71,
   "id": "b287291e",
   "metadata": {},
   "outputs": [
    {
     "name": "stdout",
     "output_type": "stream",
     "text": [
      "       gvkey iid   datadate   tic                 conm  gsector      cshtrm  \\\n",
      "0       1913  01 2010-01-31   AVY  AVERY DENNISON CORP     15.0  28154607.0   \n",
      "1       1913  01 2010-02-28   AVY  AVERY DENNISON CORP     15.0  35229672.0   \n",
      "2       1913  01 2010-03-31   AVY  AVERY DENNISON CORP     15.0  38125453.0   \n",
      "3       1913  01 2010-04-30   AVY  AVERY DENNISON CORP     15.0  33253040.0   \n",
      "4       1913  01 2010-05-31   AVY  AVERY DENNISON CORP     15.0  33787043.0   \n",
      "...      ...  ..        ...   ...                  ...      ...         ...   \n",
      "7387  260774  01 2023-08-31  CBRE       CBRE GROUP INC     60.0  28351879.0   \n",
      "7388  260774  01 2023-09-30  CBRE       CBRE GROUP INC     60.0  39349430.0   \n",
      "7389  260774  01 2023-10-31  CBRE       CBRE GROUP INC     60.0  36205971.0   \n",
      "7390  260774  01 2023-11-30  CBRE       CBRE GROUP INC     60.0  34798008.0   \n",
      "7391  260774  01 2023-12-31  CBRE       CBRE GROUP INC     60.0  33954395.0   \n",
      "\n",
      "      prccm   prchm  prclm  ...  sale_equity sale_nwc  rd_sale adv_sale  \\\n",
      "0     32.51  40.230  32.48  ...        4.452      NaN    0.015    0.003   \n",
      "1     31.60  34.190  30.82  ...        4.369      NaN    0.015    0.004   \n",
      "2     36.41  36.620  30.22  ...        4.369      NaN    0.015    0.004   \n",
      "3     39.03  43.330  36.01  ...        4.369      NaN    0.015    0.004   \n",
      "4     34.18  39.455  32.56  ...        4.637      NaN    0.015    0.004   \n",
      "...     ...     ...    ...  ...          ...      ...      ...      ...   \n",
      "7387  85.05  85.930  80.59  ...        3.772    23.58    0.000    0.002   \n",
      "7388  73.86  86.970  72.12  ...        3.772    23.58    0.000    0.002   \n",
      "7389  69.34  74.420  64.63  ...        3.772    23.58    0.000    0.002   \n",
      "7390  78.96  80.735  68.72  ...        3.772    23.58    0.000    0.002   \n",
      "7391  93.09  94.270  78.98  ...        3.772    23.58    0.000    0.002   \n",
      "\n",
      "      staff_sale  accrual    ptb  PEG_trailing  divyield  TICKER  \n",
      "0            0.0   -0.224  2.819           NaN     2.46%     AVY  \n",
      "1            0.0   -0.238  2.442           NaN     2.53%     AVY  \n",
      "2            0.0   -0.238  2.994           NaN     2.20%     AVY  \n",
      "3            0.0   -0.238  3.025           NaN     2.05%     AVY  \n",
      "4            0.0   -0.064  2.733           NaN     2.34%     AVY  \n",
      "...          ...      ...    ...           ...       ...     ...  \n",
      "7387         0.0    0.002  2.958         0.473       NaN     NaN  \n",
      "7388         0.0    0.002  2.958         0.473       NaN     NaN  \n",
      "7389         0.0    0.002  2.958         0.473       NaN     NaN  \n",
      "7390         0.0    0.002  2.958         0.473       NaN     NaN  \n",
      "7391         0.0    0.002  2.958         0.473       NaN     NaN  \n",
      "\n",
      "[7056 rows x 82 columns]\n"
     ]
    }
   ],
   "source": [
    "# Join trading data and financial ratios data and select proper companies\n",
    "stock_all = pd.merge(stock_avg, stock_factor_1, on=['yymm', 'gvkey'], how='outer')\n",
    "stock_all.sort_values(by=['gvkey', 'yymm'], inplace=True)\n",
    "stock_all[col_to_fill] = stock_all.groupby('gvkey')[col_to_fill].fillna(method='ffill')\n",
    "stock_all_final = stock_all[(stock_all['yymm'] >= '2010-01') & stock_all['tic'].notna() & ~stock_all['tic'].isin(['BX', 'AVGO'])]\n",
    "\n",
    "print(stock_all_final)"
   ]
  },
  {
   "cell_type": "code",
   "execution_count": 74,
   "id": "4ec973c2",
   "metadata": {},
   "outputs": [
    {
     "name": "stdout",
     "output_type": "stream",
     "text": [
      "       gvkey iid   datadate   tic                 conm  gsector      cshtrm  \\\n",
      "14      1913  01 2011-03-31   AVY  AVERY DENNISON CORP     15.0  23838593.0   \n",
      "15      1913  01 2011-04-30   AVY  AVERY DENNISON CORP     15.0  14758972.0   \n",
      "16      1913  01 2011-05-31   AVY  AVERY DENNISON CORP     15.0  14779131.0   \n",
      "17      1913  01 2011-06-30   AVY  AVERY DENNISON CORP     15.0  25267052.0   \n",
      "18      1913  01 2011-07-31   AVY  AVERY DENNISON CORP     15.0  30828920.0   \n",
      "...      ...  ..        ...   ...                  ...      ...         ...   \n",
      "7051  260774  01 2023-08-31  CBRE       CBRE GROUP INC     60.0  28351879.0   \n",
      "7052  260774  01 2023-09-30  CBRE       CBRE GROUP INC     60.0  39349430.0   \n",
      "7053  260774  01 2023-10-31  CBRE       CBRE GROUP INC     60.0  36205971.0   \n",
      "7054  260774  01 2023-11-30  CBRE       CBRE GROUP INC     60.0  34798008.0   \n",
      "7055  260774  01 2023-12-31  CBRE       CBRE GROUP INC     60.0  33954395.0   \n",
      "\n",
      "      prccm   prchm  prclm  ...  high_low_ratio     RSI_14       MA_3  \\\n",
      "14    41.96  42.240  39.44  ...        1.070994  62.398321  41.323333   \n",
      "15    41.74  43.520  40.50  ...        1.074568  63.548904  41.206667   \n",
      "16    42.34  43.100  40.50  ...        1.064198  58.928034  42.013333   \n",
      "17    38.63  42.220  35.95  ...        1.174409  49.416910  40.903333   \n",
      "18    31.55  39.640  30.92  ...        1.282018  46.400219  37.506667   \n",
      "...     ...     ...    ...  ...             ...        ...        ...   \n",
      "7051  85.05  85.930  80.59  ...        1.066261  56.990956  83.023333   \n",
      "7052  73.86  86.970  72.12  ...        1.205907  42.740741  80.740000   \n",
      "7053  69.34  74.420  64.63  ...        1.151478  43.900583  76.083333   \n",
      "7054  78.96  80.735  68.72  ...        1.174840  57.432169  74.053333   \n",
      "7055  93.09  94.270  78.98  ...        1.193593  62.623960  80.463333   \n",
      "\n",
      "      price_to_MA_3  return_momentum_6m       MA_6  return_momentum_9m  \\\n",
      "14         1.015407            0.143525  40.033333            0.329247   \n",
      "15         1.012943            0.161627  40.931667            0.185071   \n",
      "16         1.007775            0.141627  41.731667            0.324876   \n",
      "17         0.944422           -0.076490  41.113333            0.058990   \n",
      "18         0.841184           -0.241268  39.356667           -0.116777   \n",
      "...             ...                 ...        ...                 ...   \n",
      "7051       1.024411           -0.001058  78.910000            0.068467   \n",
      "7052       0.914788            0.014420  79.085000           -0.040281   \n",
      "7053       0.911369           -0.095488  77.865000           -0.189102   \n",
      "7054       1.066259            0.053924  78.538333           -0.072587   \n",
      "7055       1.156924            0.153388  80.601667            0.278531   \n",
      "\n",
      "           MA_9  return_momentum_12m      MA_12  \n",
      "14    38.410000             0.179857  37.585833  \n",
      "15    39.064444             0.094886  37.811667  \n",
      "16    40.155556             0.268284  38.491667  \n",
      "17    40.323333             0.230982  39.033333  \n",
      "18    39.790000            -0.098952  38.675000  \n",
      "...         ...                  ...        ...  \n",
      "7051  80.118889             0.077127  78.260000  \n",
      "7052  79.774444             0.094059  78.789167  \n",
      "7053  77.977778            -0.022555  78.655833  \n",
      "7054  77.291111            -0.008041  78.602500  \n",
      "7055  79.544444             0.209588  79.946667  \n",
      "\n",
      "[6468 rows x 70 columns]\n"
     ]
    },
    {
     "name": "stderr",
     "output_type": "stream",
     "text": [
      "C:\\Users\\13370\\AppData\\Local\\Temp\\ipykernel_83796\\684014140.py:6: FutureWarning: Not prepending group keys to the result index of transform-like apply. In the future, the group keys will be included in the index, regardless of whether the applied function returns a like-indexed object.\n",
      "To preserve the previous behavior, use\n",
      "\n",
      "\t>>> .groupby(..., group_keys=False)\n",
      "\n",
      "To adopt the future behavior and silence this warning, use \n",
      "\n",
      "\t>>> .groupby(..., group_keys=True)\n",
      "  stock_final_1 = stock_final.groupby('gvkey').apply(calculate_technical_indicators).reset_index(drop=True)\n"
     ]
    }
   ],
   "source": [
    "# Select features that are meaningful and useful\n",
    "na_counts = stock_all_final.isna().sum()\n",
    "stock_final = stock_all_final.loc[:, na_counts == 0]\n",
    "\n",
    "# Calculate momentum technical indicators\n",
    "stock_final_1 = stock_final.groupby('gvkey').apply(calculate_technical_indicators).reset_index(drop=True)\n",
    "stock_use = stock_final_1.dropna().drop(columns=[stock_final_1.columns[11]])\n",
    "print(stock_use)\n"
   ]
  },
  {
   "cell_type": "code",
   "execution_count": 75,
   "id": "672ec39f",
   "metadata": {},
   "outputs": [],
   "source": [
    "# Standardization\n",
    "\n",
    "stock_s = stock_use.copy()\n",
    "\n",
    "scaler = StandardScaler()\n",
    "stock_s.iloc[:, 6:69] = scaler.fit_transform(stock_s.iloc[:, 6:69])\n",
    "stock_s.to_csv('stock_standard_2.csv', index=False)\n"
   ]
  },
  {
   "cell_type": "code",
   "execution_count": 76,
   "id": "fe08ce2f",
   "metadata": {},
   "outputs": [],
   "source": [
    "# Normalization\n",
    "\n",
    "stock_n = stock_use.copy()\n",
    "\n",
    "normalizer = MinMaxScaler()\n",
    "stock_n.iloc[:, 6:69] = normalizer.fit_transform(stock_n.iloc[:, 6:69])\n",
    "stock_n.to_csv('stock_normal_2.csv', index=False)"
   ]
  },
  {
   "cell_type": "code",
   "execution_count": null,
   "id": "bcd4cad7",
   "metadata": {},
   "outputs": [],
   "source": []
  }
 ],
 "metadata": {
  "kernelspec": {
   "display_name": "Python 3 (ipykernel)",
   "language": "python",
   "name": "python3"
  },
  "language_info": {
   "codemirror_mode": {
    "name": "ipython",
    "version": 3
   },
   "file_extension": ".py",
   "mimetype": "text/x-python",
   "name": "python",
   "nbconvert_exporter": "python",
   "pygments_lexer": "ipython3",
   "version": "3.11.4"
  }
 },
 "nbformat": 4,
 "nbformat_minor": 5
}
