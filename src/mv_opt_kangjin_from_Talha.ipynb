{
 "cells": [
  {
   "cell_type": "markdown",
   "metadata": {},
   "source": [
    "# Import Modules"
   ]
  },
  {
   "cell_type": "code",
   "execution_count": 1,
   "metadata": {},
   "outputs": [],
   "source": [
    "import os\n",
    "import pandas as pd\n",
    "import numpy as np\n",
    "import scipy.optimize as sc \n",
    "import plotly.graph_objects as go\n",
    "import plotly.io as pio\n",
    "from IPython.display import Image\n",
    "import matplotlib.pyplot as plt\n"
   ]
  },
  {
   "cell_type": "markdown",
   "metadata": {},
   "source": [
    "# Data Preprocessing"
   ]
  },
  {
   "cell_type": "code",
   "execution_count": 2,
   "metadata": {},
   "outputs": [],
   "source": [
    "# # Import data from files\n",
    "# os.chdir('/Users/talhajamal/Desktop/Code/BigData1Project')\n",
    "# data = pd.read_csv(\"data/Returns_Data.csv\")\n",
    "# data['date'] = pd.to_datetime(data['date'], dayfirst=False)\n",
    "# characteristics = pd.read_csv(\"data/Stock_Characteristics_Data.csv\")\n",
    "# dictionary = pd.read_excel(\"data/StockDataDictionary.xlsx\")\n"
   ]
  },
  {
   "cell_type": "code",
   "execution_count": 3,
   "metadata": {},
   "outputs": [
    {
     "name": "stdout",
     "output_type": "stream",
     "text": [
      "(1300, 10)\n"
     ]
    },
    {
     "name": "stderr",
     "output_type": "stream",
     "text": [
      "C:\\Users\\kangj\\AppData\\Local\\Temp\\ipykernel_24256\\1758041697.py:42: FutureWarning: Not prepending group keys to the result index of transform-like apply. In the future, the group keys will be included in the index, regardless of whether the applied function returns a like-indexed object.\n",
      "To preserve the previous behavior, use\n",
      "\n",
      "\t>>> .groupby(..., group_keys=False)\n",
      "\n",
      "To adopt the future behavior and silence this warning, use \n",
      "\n",
      "\t>>> .groupby(..., group_keys=True)\n",
      "  data = data.groupby('ticker').apply(compute_predicted_return)\n"
     ]
    },
    {
     "data": {
      "text/html": [
       "<div>\n",
       "<style scoped>\n",
       "    .dataframe tbody tr th:only-of-type {\n",
       "        vertical-align: middle;\n",
       "    }\n",
       "\n",
       "    .dataframe tbody tr th {\n",
       "        vertical-align: top;\n",
       "    }\n",
       "\n",
       "    .dataframe thead th {\n",
       "        text-align: right;\n",
       "    }\n",
       "</style>\n",
       "<table border=\"1\" class=\"dataframe\">\n",
       "  <thead>\n",
       "    <tr style=\"text-align: right;\">\n",
       "      <th></th>\n",
       "      <th>date</th>\n",
       "      <th>ticker</th>\n",
       "      <th>PRC</th>\n",
       "      <th>VOL</th>\n",
       "      <th>RET</th>\n",
       "      <th>SHROUT</th>\n",
       "      <th>vwretd</th>\n",
       "      <th>ewretd</th>\n",
       "      <th>rf</th>\n",
       "      <th>PRED</th>\n",
       "    </tr>\n",
       "  </thead>\n",
       "  <tbody>\n",
       "    <tr>\n",
       "      <th>1295</th>\n",
       "      <td>2023-12-29</td>\n",
       "      <td>AAPL</td>\n",
       "      <td>536.66</td>\n",
       "      <td>290061</td>\n",
       "      <td>0.0103</td>\n",
       "      <td>182338031</td>\n",
       "      <td>-0.0145</td>\n",
       "      <td>-0.0102</td>\n",
       "      <td>0.0255</td>\n",
       "      <td>-0.001219</td>\n",
       "    </tr>\n",
       "    <tr>\n",
       "      <th>1296</th>\n",
       "      <td>2023-12-29</td>\n",
       "      <td>GOOGL</td>\n",
       "      <td>903.07</td>\n",
       "      <td>320045</td>\n",
       "      <td>0.0012</td>\n",
       "      <td>280766124</td>\n",
       "      <td>0.0061</td>\n",
       "      <td>0.0005</td>\n",
       "      <td>0.0299</td>\n",
       "      <td>0.007690</td>\n",
       "    </tr>\n",
       "    <tr>\n",
       "      <th>1297</th>\n",
       "      <td>2023-12-29</td>\n",
       "      <td>MSFT</td>\n",
       "      <td>236.05</td>\n",
       "      <td>317667</td>\n",
       "      <td>0.0078</td>\n",
       "      <td>173414396</td>\n",
       "      <td>0.0092</td>\n",
       "      <td>0.0152</td>\n",
       "      <td>0.0140</td>\n",
       "      <td>-0.005332</td>\n",
       "    </tr>\n",
       "    <tr>\n",
       "      <th>1298</th>\n",
       "      <td>2023-12-29</td>\n",
       "      <td>AMZN</td>\n",
       "      <td>226.79</td>\n",
       "      <td>927095</td>\n",
       "      <td>-0.0277</td>\n",
       "      <td>53799145</td>\n",
       "      <td>-0.0164</td>\n",
       "      <td>0.0172</td>\n",
       "      <td>0.0226</td>\n",
       "      <td>0.008966</td>\n",
       "    </tr>\n",
       "    <tr>\n",
       "      <th>1299</th>\n",
       "      <td>2023-12-29</td>\n",
       "      <td>TSLA</td>\n",
       "      <td>208.90</td>\n",
       "      <td>274604</td>\n",
       "      <td>0.0107</td>\n",
       "      <td>426211384</td>\n",
       "      <td>-0.0064</td>\n",
       "      <td>0.0150</td>\n",
       "      <td>0.0283</td>\n",
       "      <td>0.005148</td>\n",
       "    </tr>\n",
       "  </tbody>\n",
       "</table>\n",
       "</div>"
      ],
      "text/plain": [
       "           date ticker     PRC     VOL     RET     SHROUT  vwretd  ewretd  \\\n",
       "1295 2023-12-29   AAPL  536.66  290061  0.0103  182338031 -0.0145 -0.0102   \n",
       "1296 2023-12-29  GOOGL  903.07  320045  0.0012  280766124  0.0061  0.0005   \n",
       "1297 2023-12-29   MSFT  236.05  317667  0.0078  173414396  0.0092  0.0152   \n",
       "1298 2023-12-29   AMZN  226.79  927095 -0.0277   53799145 -0.0164  0.0172   \n",
       "1299 2023-12-29   TSLA  208.90  274604  0.0107  426211384 -0.0064  0.0150   \n",
       "\n",
       "          rf      PRED  \n",
       "1295  0.0255 -0.001219  \n",
       "1296  0.0299  0.007690  \n",
       "1297  0.0140 -0.005332  \n",
       "1298  0.0226  0.008966  \n",
       "1299  0.0283  0.005148  "
      ]
     },
     "execution_count": 3,
     "metadata": {},
     "output_type": "execute_result"
    }
   ],
   "source": [
    "# Generate simulated data\n",
    "import random\n",
    "from sklearn.linear_model import LinearRegression\n",
    "\n",
    "# Function to compute predicted returns using simple linear regression on the last rebalance period\n",
    "def compute_predicted_return(df):\n",
    "    period = 70\n",
    "    df = df.sort_values('date')\n",
    "    df['PRED'] = np.nan\n",
    "    for i in range(period, len(df)):\n",
    "        X = np.arange(period).reshape(-1, 1)\n",
    "        y = df['RET'].iloc[i-period:i].values\n",
    "        model = LinearRegression().fit(X, y)\n",
    "        df.loc[df.index[i], 'PRED'] = model.predict([[period]])[0]\n",
    "    return df\n",
    "\n",
    "seed = 2024\n",
    "random.seed(seed)\n",
    "np.random.seed(seed)\n",
    "\n",
    "# Set tickers and time range\n",
    "tickers = ['AAPL', 'GOOGL', 'MSFT', 'AMZN', 'TSLA']\n",
    "date_range = pd.date_range(start='2023-01-01', end= '2023-12-31', freq='B') # only include weekdays\n",
    "\n",
    "# Generate data\n",
    "data = []\n",
    "for date in date_range:\n",
    "    for ticker in tickers:\n",
    "        prc = round(random.uniform(100, 1000), 2)\n",
    "        vol = random.randint(1000, 1000000)\n",
    "        ret = round(np.random.normal(0, 0.02), 4)\n",
    "        shrout = random.randint(50000000, 500000000)\n",
    "        vweretd = round(random.uniform(-0.02, 0.02),4)\n",
    "        ewretd = round(random.uniform(-0.02, 0.02),4)\n",
    "        rf = round(np.random.normal(0.0225, 0.005), 4)\n",
    "        data.append([date, ticker, prc, vol, ret, shrout, vweretd, ewretd, rf])\n",
    "\n",
    "columns = ['date', 'ticker', 'PRC', 'VOL', 'RET', 'SHROUT', 'vwretd', 'ewretd', 'rf']\n",
    "data = pd.DataFrame(data, columns=columns)\n",
    "\n",
    "# Apply the prediction function to each ticker group -> add a simulated prediction\n",
    "data = data.groupby('ticker').apply(compute_predicted_return)\n",
    "\n",
    "# show generated data\n",
    "print(data.shape)\n",
    "data.tail()"
   ]
  },
  {
   "cell_type": "code",
   "execution_count": 4,
   "metadata": {},
   "outputs": [],
   "source": [
    "# Create new dataframes\n",
    "prices = data.pivot(index='date', columns='ticker', values='PRC')\n",
    "volume = data.pivot(index='date', columns='ticker', values='VOL')\n",
    "returns = data.pivot(index='date', columns='ticker', values='RET')\n",
    "risk_free_rate = data.pivot(index='date', columns='ticker', values='rf').mean(axis=1)\n",
    "pred_returns = data.pivot(index='date', columns='ticker', values='PRED')\n",
    "\n",
    "#returns = returns * 100 # Scale returns to percentage\n",
    "# Summary of Returns\n",
    "returns_summary = returns.describe()\n",
    "shares_outstanding = data.pivot(index='date', columns='ticker', values='SHROUT')\n",
    "value_weighted_returns = data.pivot(index='date', columns='ticker', values='vwretd')\n",
    "equal_weighted_returns = data.pivot(index='date', columns='ticker', values='ewretd')\n",
    "tickers = prices.columns # List of Tickers"
   ]
  },
  {
   "cell_type": "markdown",
   "metadata": {},
   "source": [
    "# Functions"
   ]
  },
  {
   "cell_type": "code",
   "execution_count": 5,
   "metadata": {},
   "outputs": [],
   "source": [
    "def portfolioPerformance(weights, meanReturns, covMatrix):\n",
    "    \"\"\" Calculate Portfolio Performance\"\"\"\n",
    "    annualizedReturns = np.sum(meanReturns*weights)*252\n",
    "    annualizedStd = np.sqrt( np.dot(weights.T, np.dot(covMatrix, weights)) ) * np.sqrt(252)\n",
    "    return annualizedReturns*100, annualizedStd*100\n",
    "\n",
    "def portfolioVariance(weights, meanReturns, covMatrix):\n",
    "    \"\"\" Return Portfolio Variance \"\"\"\n",
    "    return portfolioPerformance(weights, meanReturns, covMatrix)[1]\n",
    "\n",
    "def portfolioReturn(weights, meanReturns, covMatrix):\n",
    "    \"\"\" Return Portfolio Return \"\"\"\n",
    "    return portfolioPerformance(weights, meanReturns, covMatrix)[0]\n",
    "\n",
    "def negativeSR(weights, meanReturns, covMatrix,riskFreeRate = 0):\n",
    "    \"\"\" Calculate Negative Sharpe so that Optimizer works on it and minimizes it -> essentially maximising it\"\"\"\n",
    "    annualizedRet, annualizedStd = portfolioPerformance(weights, meanReturns, covMatrix)\n",
    "    return - ((annualizedRet - riskFreeRate)/annualizedStd)\n",
    "\n",
    "def maxSR(meanReturns, covMatrix, riskFreeRate = 0, constraintSet = (0, 1)):\n",
    "    \"\"\" Minimize the negative Sharpe Ratio -> Maximize it\"\"\"\n",
    "    numAssets = len(meanReturns)\n",
    "    args = (meanReturns, covMatrix, riskFreeRate)\n",
    "    constraints = ({'type':'eq','fun': lambda x: np.sum(x) - 1 }) # Weights must sum up to 1\n",
    "    bound = constraintSet\n",
    "    bounds = tuple(bound for asset in range(numAssets)) # For every asset have this bound\n",
    "    result = sc.minimize(negativeSR, x0=numAssets*[1./numAssets], args=args, \n",
    "                         method='SLSQP', bounds=bounds, constraints=constraints)\n",
    "    return result\n",
    "\n",
    "def minimizeVariance(meanReturns, covMatrix, riskFreeRate = 0, constraintSet = (0, 1)):\n",
    "    \"\"\" Minimize the portfolio variance by altering the weights/allocations of assets in the portfolio\"\"\"\n",
    "    numAssets = len(meanReturns)\n",
    "    args = (meanReturns, covMatrix)\n",
    "    constraints = ({'type':'eq','fun': lambda x: np.sum(x) - 1 }) # Weights must sum up to 1\n",
    "    bound = constraintSet\n",
    "    bounds = tuple(bound for asset in range(numAssets)) # For every asset have this bound\n",
    "    result = sc.minimize(portfolioVariance, x0=numAssets*[1./numAssets], args=args, \n",
    "                         method='SLSQP', bounds=bounds, constraints=constraints)\n",
    "    return result\n",
    "\n",
    "def meanVarianceOptimiser(meanReturns, covMatrix, returnTarget, constraintSet=(0,1)):\n",
    "    \"\"\" For each return target, optimize the portfolio for minimum variance\"\"\"\n",
    "    numAssets = len(meanReturns)\n",
    "    args = (meanReturns, covMatrix)\n",
    "    constraints = ({'type':'eq', 'fun':lambda x: portfolioReturn(x, meanReturns, covMatrix) - returnTarget},\n",
    "                   {'type':'eq','fun': lambda x: np.sum(x) - 1 }\n",
    "                   )\n",
    "    bound = constraintSet\n",
    "    bounds = tuple(bound for asset in range(numAssets))\n",
    "    optimizedResults = sc.minimize(portfolioVariance, numAssets*[1./numAssets], args=args, \n",
    "                                   method='SLSQP', constraints=constraints, bounds=bounds)\n",
    "    return optimizedResults\n",
    "\n",
    "def eqWeightPortfolioPerformance(meanReturns, covMatrix, returns):\n",
    "    \"\"\" Return the Performance of an Equally Weighted Portfolio\"\"\"\n",
    "    weights = np.array([1/100 for _ in returns])\n",
    "    equalWeightedPortfolioReturns, equalWeightedPortfolioVolatility = portfolioPerformance(weights, meanReturns, covMatrix)\n",
    "    equalWeightedPortfolioSR = (-1) * negativeSR(weights, meanReturns, covMatrix)\n",
    "    print(f\"Equal Weighted Portfolio Returns: {round(equalWeightedPortfolioReturns, 2)} %\")\n",
    "    print(f\"Equal Weighted Portfolio Volatility: {round(equalWeightedPortfolioVolatility, 2)} %\")\n",
    "    print(f\"Equal Weighted Portfolio SR: {round(equalWeightedPortfolioSR, 2)}\")\n",
    "    return equalWeightedPortfolioReturns, equalWeightedPortfolioVolatility, equalWeightedPortfolioSR\n",
    "    \n",
    "def maxSRPortfolioPerformance(meanReturns, covMatrix):\n",
    "    \"\"\" Return the Performance of the Maximum SR Portfolio\"\"\"\n",
    "    maxSRPortfolioPerformance = maxSR(meanReturns, covMatrix)\n",
    "    maxSRPortfolioWeights = maxSRPortfolioPerformance.x\n",
    "    maxSRPortfolioReturns, maxSRPortfolioVolatility = portfolioPerformance(maxSRPortfolioWeights, meanReturns, covMatrix)\n",
    "    maxSRPortfolioSR = maxSRPortfolioPerformance.fun * (-1)\n",
    "    print(f\"Max SR Portfolio Returns: {round(maxSRPortfolioReturns, 2)} %\")\n",
    "    print(f\"Max SR Portfolio Volatility: {round(maxSRPortfolioVolatility, 2)} %\")\n",
    "    print(f\"Max SR Portfolio SR: {round(maxSRPortfolioSR, 2)}\")\n",
    "    return maxSRPortfolioReturns, maxSRPortfolioVolatility, maxSRPortfolioSR, maxSRPortfolioWeights\n",
    "\n",
    "def minVariancePortfolioPerformance(meanReturns, covMatrix):\n",
    "    \"\"\" Return the Performance of the Minimum Variance Portfolio\"\"\"\n",
    "    minVariancePortfolioPerformance = minimizeVariance(meanReturns, covMatrix)\n",
    "    minVariancePortfolioWeights = minVariancePortfolioPerformance.x\n",
    "    minVariancePortfolioReturns, minVariancePortfolioVolatility = portfolioPerformance(minVariancePortfolioWeights, meanReturns, covMatrix)\n",
    "    minVariancePortfolioSR = (-1) * negativeSR(minVariancePortfolioWeights, meanReturns, covMatrix)\n",
    "    print(f\"Min Variance Portfolio Returns: {round(minVariancePortfolioReturns, 2)} %\")\n",
    "    print(f\"Min Variance Portfolio Volatility: {round(minVariancePortfolioVolatility, 2)} %\")\n",
    "    print(f\"Min Variance Portfolio SR: {round(minVariancePortfolioSR, 2)}\")\n",
    "    return minVariancePortfolioReturns, minVariancePortfolioVolatility, minVariancePortfolioSR, minVariancePortfolioWeights\n",
    "\n",
    "def EF_generator(minVariancePortfolioReturns, maxSRPortfolioReturns, meanReturns, covMatrix):\n",
    "    \"\"\" Generate the List for the Efficient Frontier\"\"\"\n",
    "    targetReturns = np.linspace(minVariancePortfolioReturns, 25, 20)\n",
    "    efficientFrontier = []\n",
    "    for target in targetReturns:\n",
    "        efficientFrontier.append(meanVarianceOptimiser(meanReturns, covMatrix, returnTarget=target)['fun'])\n",
    "    return efficientFrontier, targetReturns\n",
    "\n",
    "def EF_graph(meanReturns, covMatrix, riskFreeRate = 0, constraintSet = (0, 1)):\n",
    "    \"\"\" Return a Graph plotting the min vol, max sr, and efficient frontier\"\"\"\n",
    "    \n",
    "    maxSRPortfolioRet, maxSRPortfolioVol, maxSRPortfolioSR, maxSRPortfolioWeights = maxSRPortfolioPerformance(meanReturns, covMatrix)\n",
    "    minVarPortfolioRet, minVarPortfolioVol, minVarPortfolioSR, minVariancePortfolioWeights = minVariancePortfolioPerformance(meanReturns, covMatrix)\n",
    "\n",
    "    efficientList, targetReturns = EF_generator(minVarPortfolioRet, maxSRPortfolioRet, meanReturns, covMatrix)\n",
    "\n",
    "    # Plot the Equal Weighted Portfolio\n",
    "    eqWRet, eqWVol, eqWSR = eqWeightPortfolioPerformance(meanReturns, covMatrix, returns)\n",
    "    eqWeightedPortfolio = go.Scatter(\n",
    "        name='Equally Weighted Portfolio',\n",
    "        mode = 'markers',\n",
    "        x = [eqWVol],\n",
    "        y = [eqWRet],\n",
    "        marker = dict(color='yellow', size=14, line=dict(width=3, color='black') )\n",
    "    )\n",
    "\n",
    "\n",
    "    # Plot the Max SR\n",
    "    MaxSharpeRatio = go.Scatter(\n",
    "        name='Max Sharpe Ratio',\n",
    "        mode='markers',\n",
    "        x = [maxSRPortfolioVol],\n",
    "        y = [maxSRPortfolioRet],\n",
    "        marker = dict(color='red', size=14, line=dict(width=3, color='black') )\n",
    "    )\n",
    "\n",
    "    # Plot the Min vol\n",
    "    MinVol = go.Scatter(\n",
    "        name='Min Volatility',\n",
    "        mode='markers',\n",
    "        x = [minVarPortfolioVol],\n",
    "        y = [minVarPortfolioRet],\n",
    "        marker = dict(color='green', size=14, line=dict(width=3, color='black') )\n",
    "    )\n",
    "\n",
    "    # Plot the Efficient Frontier\n",
    "    EF_curve = go.Scatter(\n",
    "        name='Efficient Frontier',\n",
    "        mode='lines',\n",
    "        x = [round(ef_std, 2) for ef_std in efficientList],\n",
    "        y = [round(target, 2) for target in targetReturns],\n",
    "        line = dict(color='black', width=4, dash='dashdot')\n",
    "    )\n",
    "\n",
    "    data = [MaxSharpeRatio, MinVol, eqWeightedPortfolio, EF_curve]\n",
    "    \n",
    "    layout = go.Layout(\n",
    "        title = {\n",
    "            'text':'Comparison of Portfolios via Mean Variance Optimization',\n",
    "            'y':0.9,\n",
    "            'x':0.5,\n",
    "            'xanchor':'center',\n",
    "            'yanchor':'top'\n",
    "        },\n",
    "        yaxis = dict(title='Annualized Returns (%)'),\n",
    "        xaxis= dict(title='Annualized Volatility (%)'),\n",
    "        showlegend= True,\n",
    "        legend= dict(\n",
    "                    x=0.7, \n",
    "                    y=0, \n",
    "                    traceorder='normal', \n",
    "                    bgcolor='#E2E2E2', \n",
    "                    bordercolor='black', \n",
    "                    borderwidth=2),\n",
    "        width=800,\n",
    "        height=600)\n",
    "    \n",
    "    fig = go.Figure(data=data, layout=layout)\n",
    "\n",
    "    pio.write_image(fig, 'MeanVariancePortfolioOptimization.png')\n",
    "\n",
    "    return fig.show()"
   ]
  },
  {
   "cell_type": "markdown",
   "metadata": {},
   "source": [
    "# Mean Returns and CovMatrix"
   ]
  },
  {
   "cell_type": "code",
   "execution_count": 6,
   "metadata": {},
   "outputs": [],
   "source": [
    "meanReturns = returns.mean()\n",
    "covMatrix = returns.cov()"
   ]
  },
  {
   "cell_type": "markdown",
   "metadata": {},
   "source": [
    "# Equal Weighted Portfolio"
   ]
  },
  {
   "cell_type": "code",
   "execution_count": 7,
   "metadata": {},
   "outputs": [
    {
     "name": "stdout",
     "output_type": "stream",
     "text": [
      "Equal Weighted Portfolio Returns: 0.29 %\n",
      "Equal Weighted Portfolio Volatility: 0.67 %\n",
      "Equal Weighted Portfolio SR: 0.44\n"
     ]
    }
   ],
   "source": [
    "equalWeightedPortfolioRet, equalWeightedPortfolioVol, equalWeightedPortfolioSR = eqWeightPortfolioPerformance(meanReturns, \n",
    "                                                                                                              covMatrix, \n",
    "                                                                                                              returns)"
   ]
  },
  {
   "cell_type": "markdown",
   "metadata": {},
   "source": [
    "# Max SR Portfolio"
   ]
  },
  {
   "cell_type": "code",
   "execution_count": 8,
   "metadata": {},
   "outputs": [
    {
     "name": "stdout",
     "output_type": "stream",
     "text": [
      "Max SR Portfolio Returns: 28.98 %\n",
      "Max SR Portfolio Volatility: 23.41 %\n",
      "Max SR Portfolio SR: 1.24\n"
     ]
    }
   ],
   "source": [
    "maxSRPortfolioRet, maxSRPortfolioVol, maxSRPortfolioSR, maxSRPortfolioWeights = maxSRPortfolioPerformance(meanReturns, covMatrix)"
   ]
  },
  {
   "cell_type": "markdown",
   "metadata": {},
   "source": [
    "# Min Variance Portfolio"
   ]
  },
  {
   "cell_type": "code",
   "execution_count": 9,
   "metadata": {},
   "outputs": [
    {
     "name": "stdout",
     "output_type": "stream",
     "text": [
      "Min Variance Portfolio Returns: 4.48 %\n",
      "Min Variance Portfolio Volatility: 13.29 %\n",
      "Min Variance Portfolio SR: 0.34\n"
     ]
    }
   ],
   "source": [
    "minVarPortfolioRet, minVarPortfolioVol, minVarPortfolioSR, minVariancePortfolioWeights = minVariancePortfolioPerformance(meanReturns, covMatrix)"
   ]
  },
  {
   "cell_type": "markdown",
   "metadata": {},
   "source": [
    "# Backtest"
   ]
  },
  {
   "cell_type": "markdown",
   "metadata": {},
   "source": [
    "## Functions"
   ]
  },
  {
   "cell_type": "code",
   "execution_count": 25,
   "metadata": {},
   "outputs": [],
   "source": [
    "# Update portfolio weights daily based on past period historical data\n",
    "# Update portfolio weights daily based on past 70 days' historical data\n",
    "def update_weights(data, pred_returns, method, risk_free_rate):\n",
    "    dates = data.index.unique()\n",
    "    tickers = data.columns\n",
    "    weights = pd.DataFrame(index=dates, columns=tickers).fillna(0)\n",
    "    \n",
    "    for i in range(70, len(dates)-1):\n",
    "        past_data = data.iloc[i-70:i]\n",
    "        meanReturns = past_data.mean()\n",
    "        covMatrix = past_data.cov()\n",
    "        rf = risk_free_rate.iloc[i]\n",
    "        pred_return_next_day = pred_returns.iloc[i+1]\n",
    "        \n",
    "        if method == 'max_sr':\n",
    "            result = maxSR(meanReturns, covMatrix, rf)\n",
    "        elif method == 'min_var':\n",
    "            result = minimizeVariance(meanReturns, covMatrix)\n",
    "        elif method == 'pred_mean_var':\n",
    "            combined_mean_returns = (meanReturns + pred_return_next_day) / 2\n",
    "            result = maxSR(combined_mean_returns, covMatrix, rf)\n",
    "            \n",
    "#         if method != 'pred_mean_var' and np.all(pred_return_next_day < rf):\n",
    "#             weights.iloc[i] = np.zeros(len(tickers))\n",
    "#         else:\n",
    "#             weights.iloc[i] = result.x\n",
    "            \n",
    "        weights.iloc[i] = result.x\n",
    "    \n",
    "    return weights\n",
    "\n",
    "# Backtest\n",
    "def backtest(weights, returns, initial_capital):\n",
    "    portfolio_values = [initial_capital]\n",
    "    for date in returns.index[1:]:\n",
    "        prev_value = portfolio_values[-1]\n",
    "        daily_return = np.sum(weights.loc[date] * returns.loc[date])\n",
    "        portfolio_values.append(prev_value * (1 + daily_return))\n",
    "    return portfolio_values\n"
   ]
  },
  {
   "cell_type": "markdown",
   "metadata": {},
   "source": [
    "## Generate weights"
   ]
  },
  {
   "cell_type": "code",
   "execution_count": 26,
   "metadata": {},
   "outputs": [],
   "source": [
    "# Generate weights for max SR, min variance, and mean-variance optimization using predicted returns\n",
    "max_sr_weights = update_weights(returns, pred_returns, 'max_sr', risk_free_rate)\n",
    "min_var_weights = update_weights(returns, pred_returns, 'min_var', risk_free_rate)\n",
    "pred_mean_var_weights = update_weights(returns, pred_returns, 'pred_mean_var', risk_free_rate)\n",
    "\n",
    "# Generate weights for equally weighted portfolio\n",
    "equal_weights = pd.DataFrame(1/len(tickers), index=returns.index, columns=tickers)\n"
   ]
  },
  {
   "cell_type": "code",
   "execution_count": 27,
   "metadata": {},
   "outputs": [
    {
     "data": {
      "text/html": [
       "<div>\n",
       "<style scoped>\n",
       "    .dataframe tbody tr th:only-of-type {\n",
       "        vertical-align: middle;\n",
       "    }\n",
       "\n",
       "    .dataframe tbody tr th {\n",
       "        vertical-align: top;\n",
       "    }\n",
       "\n",
       "    .dataframe thead th {\n",
       "        text-align: right;\n",
       "    }\n",
       "</style>\n",
       "<table border=\"1\" class=\"dataframe\">\n",
       "  <thead>\n",
       "    <tr style=\"text-align: right;\">\n",
       "      <th>ticker</th>\n",
       "      <th>AAPL</th>\n",
       "      <th>AMZN</th>\n",
       "      <th>GOOGL</th>\n",
       "      <th>MSFT</th>\n",
       "      <th>TSLA</th>\n",
       "    </tr>\n",
       "    <tr>\n",
       "      <th>date</th>\n",
       "      <th></th>\n",
       "      <th></th>\n",
       "      <th></th>\n",
       "      <th></th>\n",
       "      <th></th>\n",
       "    </tr>\n",
       "  </thead>\n",
       "  <tbody>\n",
       "    <tr>\n",
       "      <th>2023-12-25</th>\n",
       "      <td>3.700110e-16</td>\n",
       "      <td>0.396547</td>\n",
       "      <td>0.084010</td>\n",
       "      <td>0.519443</td>\n",
       "      <td>0.000000e+00</td>\n",
       "    </tr>\n",
       "    <tr>\n",
       "      <th>2023-12-26</th>\n",
       "      <td>0.000000e+00</td>\n",
       "      <td>0.369685</td>\n",
       "      <td>0.136510</td>\n",
       "      <td>0.493805</td>\n",
       "      <td>1.431645e-15</td>\n",
       "    </tr>\n",
       "    <tr>\n",
       "      <th>2023-12-27</th>\n",
       "      <td>0.000000e+00</td>\n",
       "      <td>0.389894</td>\n",
       "      <td>0.164151</td>\n",
       "      <td>0.445955</td>\n",
       "      <td>2.269676e-16</td>\n",
       "    </tr>\n",
       "    <tr>\n",
       "      <th>2023-12-28</th>\n",
       "      <td>0.000000e+00</td>\n",
       "      <td>0.413696</td>\n",
       "      <td>0.165368</td>\n",
       "      <td>0.420936</td>\n",
       "      <td>3.104415e-16</td>\n",
       "    </tr>\n",
       "    <tr>\n",
       "      <th>2023-12-29</th>\n",
       "      <td>0.000000e+00</td>\n",
       "      <td>0.000000</td>\n",
       "      <td>0.000000</td>\n",
       "      <td>0.000000</td>\n",
       "      <td>0.000000e+00</td>\n",
       "    </tr>\n",
       "  </tbody>\n",
       "</table>\n",
       "</div>"
      ],
      "text/plain": [
       "ticker              AAPL      AMZN     GOOGL      MSFT          TSLA\n",
       "date                                                                \n",
       "2023-12-25  3.700110e-16  0.396547  0.084010  0.519443  0.000000e+00\n",
       "2023-12-26  0.000000e+00  0.369685  0.136510  0.493805  1.431645e-15\n",
       "2023-12-27  0.000000e+00  0.389894  0.164151  0.445955  2.269676e-16\n",
       "2023-12-28  0.000000e+00  0.413696  0.165368  0.420936  3.104415e-16\n",
       "2023-12-29  0.000000e+00  0.000000  0.000000  0.000000  0.000000e+00"
      ]
     },
     "execution_count": 27,
     "metadata": {},
     "output_type": "execute_result"
    }
   ],
   "source": [
    "max_sr_weights.tail()"
   ]
  },
  {
   "cell_type": "code",
   "execution_count": 28,
   "metadata": {},
   "outputs": [
    {
     "data": {
      "text/html": [
       "<div>\n",
       "<style scoped>\n",
       "    .dataframe tbody tr th:only-of-type {\n",
       "        vertical-align: middle;\n",
       "    }\n",
       "\n",
       "    .dataframe tbody tr th {\n",
       "        vertical-align: top;\n",
       "    }\n",
       "\n",
       "    .dataframe thead th {\n",
       "        text-align: right;\n",
       "    }\n",
       "</style>\n",
       "<table border=\"1\" class=\"dataframe\">\n",
       "  <thead>\n",
       "    <tr style=\"text-align: right;\">\n",
       "      <th>ticker</th>\n",
       "      <th>AAPL</th>\n",
       "      <th>AMZN</th>\n",
       "      <th>GOOGL</th>\n",
       "      <th>MSFT</th>\n",
       "      <th>TSLA</th>\n",
       "    </tr>\n",
       "    <tr>\n",
       "      <th>date</th>\n",
       "      <th></th>\n",
       "      <th></th>\n",
       "      <th></th>\n",
       "      <th></th>\n",
       "      <th></th>\n",
       "    </tr>\n",
       "  </thead>\n",
       "  <tbody>\n",
       "    <tr>\n",
       "      <th>2023-12-25</th>\n",
       "      <td>0.243874</td>\n",
       "      <td>0.229115</td>\n",
       "      <td>0.102609</td>\n",
       "      <td>0.234502</td>\n",
       "      <td>0.189900</td>\n",
       "    </tr>\n",
       "    <tr>\n",
       "      <th>2023-12-26</th>\n",
       "      <td>0.241231</td>\n",
       "      <td>0.217799</td>\n",
       "      <td>0.104396</td>\n",
       "      <td>0.228891</td>\n",
       "      <td>0.207682</td>\n",
       "    </tr>\n",
       "    <tr>\n",
       "      <th>2023-12-27</th>\n",
       "      <td>0.220896</td>\n",
       "      <td>0.233518</td>\n",
       "      <td>0.098848</td>\n",
       "      <td>0.228359</td>\n",
       "      <td>0.218378</td>\n",
       "    </tr>\n",
       "    <tr>\n",
       "      <th>2023-12-28</th>\n",
       "      <td>0.226377</td>\n",
       "      <td>0.234304</td>\n",
       "      <td>0.098049</td>\n",
       "      <td>0.221429</td>\n",
       "      <td>0.219842</td>\n",
       "    </tr>\n",
       "    <tr>\n",
       "      <th>2023-12-29</th>\n",
       "      <td>0.000000</td>\n",
       "      <td>0.000000</td>\n",
       "      <td>0.000000</td>\n",
       "      <td>0.000000</td>\n",
       "      <td>0.000000</td>\n",
       "    </tr>\n",
       "  </tbody>\n",
       "</table>\n",
       "</div>"
      ],
      "text/plain": [
       "ticker          AAPL      AMZN     GOOGL      MSFT      TSLA\n",
       "date                                                        \n",
       "2023-12-25  0.243874  0.229115  0.102609  0.234502  0.189900\n",
       "2023-12-26  0.241231  0.217799  0.104396  0.228891  0.207682\n",
       "2023-12-27  0.220896  0.233518  0.098848  0.228359  0.218378\n",
       "2023-12-28  0.226377  0.234304  0.098049  0.221429  0.219842\n",
       "2023-12-29  0.000000  0.000000  0.000000  0.000000  0.000000"
      ]
     },
     "execution_count": 28,
     "metadata": {},
     "output_type": "execute_result"
    }
   ],
   "source": [
    "min_var_weights.tail()"
   ]
  },
  {
   "cell_type": "code",
   "execution_count": 29,
   "metadata": {},
   "outputs": [
    {
     "data": {
      "text/html": [
       "<div>\n",
       "<style scoped>\n",
       "    .dataframe tbody tr th:only-of-type {\n",
       "        vertical-align: middle;\n",
       "    }\n",
       "\n",
       "    .dataframe tbody tr th {\n",
       "        vertical-align: top;\n",
       "    }\n",
       "\n",
       "    .dataframe thead th {\n",
       "        text-align: right;\n",
       "    }\n",
       "</style>\n",
       "<table border=\"1\" class=\"dataframe\">\n",
       "  <thead>\n",
       "    <tr style=\"text-align: right;\">\n",
       "      <th>ticker</th>\n",
       "      <th>AAPL</th>\n",
       "      <th>AMZN</th>\n",
       "      <th>GOOGL</th>\n",
       "      <th>MSFT</th>\n",
       "      <th>TSLA</th>\n",
       "    </tr>\n",
       "    <tr>\n",
       "      <th>date</th>\n",
       "      <th></th>\n",
       "      <th></th>\n",
       "      <th></th>\n",
       "      <th></th>\n",
       "      <th></th>\n",
       "    </tr>\n",
       "  </thead>\n",
       "  <tbody>\n",
       "    <tr>\n",
       "      <th>2023-12-25</th>\n",
       "      <td>6.035563e-16</td>\n",
       "      <td>0.541044</td>\n",
       "      <td>0.065592</td>\n",
       "      <td>1.977130e-01</td>\n",
       "      <td>0.195652</td>\n",
       "    </tr>\n",
       "    <tr>\n",
       "      <th>2023-12-26</th>\n",
       "      <td>0.000000e+00</td>\n",
       "      <td>0.461157</td>\n",
       "      <td>0.140126</td>\n",
       "      <td>1.924464e-01</td>\n",
       "      <td>0.206271</td>\n",
       "    </tr>\n",
       "    <tr>\n",
       "      <th>2023-12-27</th>\n",
       "      <td>0.000000e+00</td>\n",
       "      <td>0.459139</td>\n",
       "      <td>0.178553</td>\n",
       "      <td>1.703487e-01</td>\n",
       "      <td>0.191959</td>\n",
       "    </tr>\n",
       "    <tr>\n",
       "      <th>2023-12-28</th>\n",
       "      <td>0.000000e+00</td>\n",
       "      <td>0.475079</td>\n",
       "      <td>0.326947</td>\n",
       "      <td>9.263466e-17</td>\n",
       "      <td>0.197973</td>\n",
       "    </tr>\n",
       "    <tr>\n",
       "      <th>2023-12-29</th>\n",
       "      <td>0.000000e+00</td>\n",
       "      <td>0.000000</td>\n",
       "      <td>0.000000</td>\n",
       "      <td>0.000000e+00</td>\n",
       "      <td>0.000000</td>\n",
       "    </tr>\n",
       "  </tbody>\n",
       "</table>\n",
       "</div>"
      ],
      "text/plain": [
       "ticker              AAPL      AMZN     GOOGL          MSFT      TSLA\n",
       "date                                                                \n",
       "2023-12-25  6.035563e-16  0.541044  0.065592  1.977130e-01  0.195652\n",
       "2023-12-26  0.000000e+00  0.461157  0.140126  1.924464e-01  0.206271\n",
       "2023-12-27  0.000000e+00  0.459139  0.178553  1.703487e-01  0.191959\n",
       "2023-12-28  0.000000e+00  0.475079  0.326947  9.263466e-17  0.197973\n",
       "2023-12-29  0.000000e+00  0.000000  0.000000  0.000000e+00  0.000000"
      ]
     },
     "execution_count": 29,
     "metadata": {},
     "output_type": "execute_result"
    }
   ],
   "source": [
    "pred_mean_var_weights.tail()"
   ]
  },
  {
   "cell_type": "markdown",
   "metadata": {},
   "source": [
    "## Perform Backtest"
   ]
  },
  {
   "cell_type": "code",
   "execution_count": 30,
   "metadata": {},
   "outputs": [
    {
     "data": {
      "image/png": "[encoded data removed]",
      "text/plain": [
       "<Figure size 1200x800 with 1 Axes>"
      ]
     },
     "metadata": {},
     "output_type": "display_data"
    }
   ],
   "source": [
    "# Backtest portfolios\n",
    "initial_capital = 1000\n",
    "portfolios = {\n",
    "    'max_sr': max_sr_weights,\n",
    "    'min_var': min_var_weights,\n",
    "    'equal': equal_weights,\n",
    "    'pred_mean_var': pred_mean_var_weights\n",
    "}\n",
    "\n",
    "# Perform backtest\n",
    "results = {}\n",
    "for name, weights in portfolios.items():\n",
    "    results[name] = backtest(weights, returns, initial_capital)\n",
    "\n",
    "# Plot results\n",
    "plt.figure(figsize=(12, 8))\n",
    "for name, values in results.items():\n",
    "    plt.plot(returns.index, values, label=name)\n",
    "plt.title('Portfolio Performance Comparison')\n",
    "plt.xlabel('Date')\n",
    "plt.ylabel('Portfolio Value')\n",
    "plt.legend()\n",
    "plt.show()"
   ]
  },
  {
   "cell_type": "code",
   "execution_count": null,
   "metadata": {},
   "outputs": [],
   "source": []
  },
  {
   "cell_type": "markdown",
   "metadata": {},
   "source": [
    "# Efficient Frontier"
   ]
  },
  {
   "cell_type": "code",
   "execution_count": 16,
   "metadata": {},
   "outputs": [],
   "source": [
    "# !pip install -U kaleido\n",
    "import kaleido"
   ]
  },
  {
   "cell_type": "code",
   "execution_count": 17,
   "metadata": {},
   "outputs": [
    {
     "name": "stdout",
     "output_type": "stream",
     "text": [
      "Max SR Portfolio Returns: 165.06 %\n",
      "Max SR Portfolio Volatility: 57.18 %\n",
      "Max SR Portfolio SR: 2.89\n",
      "Min Variance Portfolio Returns: 77.84 %\n",
      "Min Variance Portfolio Volatility: 39.9 %\n",
      "Min Variance Portfolio SR: 1.95\n",
      "Equal Weighted Portfolio Returns: 3.78 %\n",
      "Equal Weighted Portfolio Volatility: 2.01 %\n",
      "Equal Weighted Portfolio SR: 1.88\n"
     ]
    },
    {
     "ename": "ValueError",
     "evalue": "\nImage export using the \"kaleido\" engine requires the kaleido package,\nwhich can be installed using pip:\n    $ pip install -U kaleido\n",
     "output_type": "error",
     "traceback": [
      "\u001b[1;31m---------------------------------------------------------------------------\u001b[0m",
      "\u001b[1;31mValueError\u001b[0m                                Traceback (most recent call last)",
      "Cell \u001b[1;32mIn[17], line 1\u001b[0m\n\u001b[1;32m----> 1\u001b[0m EF_graph(meanReturns, covMatrix)\n",
      "Cell \u001b[1;32mIn[7], line 166\u001b[0m, in \u001b[0;36mEF_graph\u001b[1;34m(meanReturns, covMatrix, riskFreeRate, constraintSet)\u001b[0m\n\u001b[0;32m    143\u001b[0m layout \u001b[38;5;241m=\u001b[39m go\u001b[38;5;241m.\u001b[39mLayout(\n\u001b[0;32m    144\u001b[0m     title \u001b[38;5;241m=\u001b[39m {\n\u001b[0;32m    145\u001b[0m         \u001b[38;5;124m'\u001b[39m\u001b[38;5;124mtext\u001b[39m\u001b[38;5;124m'\u001b[39m:\u001b[38;5;124m'\u001b[39m\u001b[38;5;124mComparison of Portfolios via Mean Variance Optimization\u001b[39m\u001b[38;5;124m'\u001b[39m,\n\u001b[1;32m   (...)\u001b[0m\n\u001b[0;32m    161\u001b[0m     width\u001b[38;5;241m=\u001b[39m\u001b[38;5;241m800\u001b[39m,\n\u001b[0;32m    162\u001b[0m     height\u001b[38;5;241m=\u001b[39m\u001b[38;5;241m600\u001b[39m)\n\u001b[0;32m    164\u001b[0m fig \u001b[38;5;241m=\u001b[39m go\u001b[38;5;241m.\u001b[39mFigure(data\u001b[38;5;241m=\u001b[39mdata, layout\u001b[38;5;241m=\u001b[39mlayout)\n\u001b[1;32m--> 166\u001b[0m pio\u001b[38;5;241m.\u001b[39mwrite_image(fig, \u001b[38;5;124m'\u001b[39m\u001b[38;5;124mMeanVariancePortfolioOptimization.png\u001b[39m\u001b[38;5;124m'\u001b[39m)\n\u001b[0;32m    168\u001b[0m \u001b[38;5;28;01mreturn\u001b[39;00m fig\u001b[38;5;241m.\u001b[39mshow()\n",
      "File \u001b[1;32mD:\\Anaconda3\\Lib\\site-packages\\plotly\\io\\_kaleido.py:267\u001b[0m, in \u001b[0;36mwrite_image\u001b[1;34m(fig, file, format, scale, width, height, validate, engine)\u001b[0m\n\u001b[0;32m    251\u001b[0m             \u001b[38;5;28;01mraise\u001b[39;00m \u001b[38;5;167;01mValueError\u001b[39;00m(\n\u001b[0;32m    252\u001b[0m \u001b[38;5;250m                \u001b[39m\u001b[38;5;124;03m\"\"\"\u001b[39;00m\n\u001b[0;32m    253\u001b[0m \u001b[38;5;124;03mCannot infer image type from output path '{file}'.\u001b[39;00m\n\u001b[1;32m   (...)\u001b[0m\n\u001b[0;32m    261\u001b[0m                 )\n\u001b[0;32m    262\u001b[0m             )\n\u001b[0;32m    264\u001b[0m     \u001b[38;5;66;03m# Request image\u001b[39;00m\n\u001b[0;32m    265\u001b[0m     \u001b[38;5;66;03m# -------------\u001b[39;00m\n\u001b[0;32m    266\u001b[0m     \u001b[38;5;66;03m# Do this first so we don't create a file if image conversion fails\u001b[39;00m\n\u001b[1;32m--> 267\u001b[0m     img_data \u001b[38;5;241m=\u001b[39m to_image(\n\u001b[0;32m    268\u001b[0m         fig,\n\u001b[0;32m    269\u001b[0m         \u001b[38;5;28mformat\u001b[39m\u001b[38;5;241m=\u001b[39m\u001b[38;5;28mformat\u001b[39m,\n\u001b[0;32m    270\u001b[0m         scale\u001b[38;5;241m=\u001b[39mscale,\n\u001b[0;32m    271\u001b[0m         width\u001b[38;5;241m=\u001b[39mwidth,\n\u001b[0;32m    272\u001b[0m         height\u001b[38;5;241m=\u001b[39mheight,\n\u001b[0;32m    273\u001b[0m         validate\u001b[38;5;241m=\u001b[39mvalidate,\n\u001b[0;32m    274\u001b[0m         engine\u001b[38;5;241m=\u001b[39mengine,\n\u001b[0;32m    275\u001b[0m     )\n\u001b[0;32m    277\u001b[0m     \u001b[38;5;66;03m# Open file\u001b[39;00m\n\u001b[0;32m    278\u001b[0m     \u001b[38;5;66;03m# ---------\u001b[39;00m\n\u001b[0;32m    279\u001b[0m     \u001b[38;5;28;01mif\u001b[39;00m path \u001b[38;5;129;01mis\u001b[39;00m \u001b[38;5;28;01mNone\u001b[39;00m:\n\u001b[0;32m    280\u001b[0m         \u001b[38;5;66;03m# We previously failed to make sense of `file` as a pathlib object.\u001b[39;00m\n\u001b[0;32m    281\u001b[0m         \u001b[38;5;66;03m# Attempt to write to `file` as an open file descriptor.\u001b[39;00m\n",
      "File \u001b[1;32mD:\\Anaconda3\\Lib\\site-packages\\plotly\\io\\_kaleido.py:133\u001b[0m, in \u001b[0;36mto_image\u001b[1;34m(fig, format, width, height, scale, validate, engine)\u001b[0m\n\u001b[0;32m    131\u001b[0m     \u001b[38;5;66;03m# Raise informative error message if Kaleido is not installed\u001b[39;00m\n\u001b[0;32m    132\u001b[0m     \u001b[38;5;28;01mif\u001b[39;00m scope \u001b[38;5;129;01mis\u001b[39;00m \u001b[38;5;28;01mNone\u001b[39;00m:\n\u001b[1;32m--> 133\u001b[0m         \u001b[38;5;28;01mraise\u001b[39;00m \u001b[38;5;167;01mValueError\u001b[39;00m(\n\u001b[0;32m    134\u001b[0m \u001b[38;5;250m            \u001b[39m\u001b[38;5;124;03m\"\"\"\u001b[39;00m\n\u001b[0;32m    135\u001b[0m \u001b[38;5;124;03mImage export using the \"kaleido\" engine requires the kaleido package,\u001b[39;00m\n\u001b[0;32m    136\u001b[0m \u001b[38;5;124;03mwhich can be installed using pip:\u001b[39;00m\n\u001b[0;32m    137\u001b[0m \u001b[38;5;124;03m    $ pip install -U kaleido\u001b[39;00m\n\u001b[0;32m    138\u001b[0m \u001b[38;5;124;03m\"\"\"\u001b[39;00m\n\u001b[0;32m    139\u001b[0m         )\n\u001b[0;32m    141\u001b[0m     \u001b[38;5;66;03m# Validate figure\u001b[39;00m\n\u001b[0;32m    142\u001b[0m     \u001b[38;5;66;03m# ---------------\u001b[39;00m\n\u001b[0;32m    143\u001b[0m     fig_dict \u001b[38;5;241m=\u001b[39m validate_coerce_fig_to_dict(fig, validate)\n",
      "\u001b[1;31mValueError\u001b[0m: \nImage export using the \"kaleido\" engine requires the kaleido package,\nwhich can be installed using pip:\n    $ pip install -U kaleido\n"
     ]
    }
   ],
   "source": [
    "EF_graph(meanReturns, covMatrix)"
   ]
  },
  {
   "cell_type": "code",
   "execution_count": 13,
   "metadata": {},
   "outputs": [
    {
     "ename": "FileNotFoundError",
     "evalue": "[Errno 2] No such file or directory: 'MeanVariancePortfolioOptimization.png'",
     "output_type": "error",
     "traceback": [
      "\u001b[1;31m---------------------------------------------------------------------------\u001b[0m",
      "\u001b[1;31mFileNotFoundError\u001b[0m                         Traceback (most recent call last)",
      "Cell \u001b[1;32mIn[13], line 2\u001b[0m\n\u001b[0;32m      1\u001b[0m \u001b[38;5;66;03m# Display the PNG image file\u001b[39;00m\n\u001b[1;32m----> 2\u001b[0m Image(filename\u001b[38;5;241m=\u001b[39m\u001b[38;5;124m'\u001b[39m\u001b[38;5;124mMeanVariancePortfolioOptimization.png\u001b[39m\u001b[38;5;124m'\u001b[39m)\n",
      "File \u001b[1;32mD:\\Anaconda3\\Lib\\site-packages\\IPython\\core\\display.py:970\u001b[0m, in \u001b[0;36mImage.__init__\u001b[1;34m(self, data, url, filename, format, embed, width, height, retina, unconfined, metadata, alt)\u001b[0m\n\u001b[0;32m    968\u001b[0m \u001b[38;5;28mself\u001b[39m\u001b[38;5;241m.\u001b[39munconfined \u001b[38;5;241m=\u001b[39m unconfined\n\u001b[0;32m    969\u001b[0m \u001b[38;5;28mself\u001b[39m\u001b[38;5;241m.\u001b[39malt \u001b[38;5;241m=\u001b[39m alt\n\u001b[1;32m--> 970\u001b[0m \u001b[38;5;28msuper\u001b[39m(Image, \u001b[38;5;28mself\u001b[39m)\u001b[38;5;241m.\u001b[39m\u001b[38;5;21m__init__\u001b[39m(data\u001b[38;5;241m=\u001b[39mdata, url\u001b[38;5;241m=\u001b[39murl, filename\u001b[38;5;241m=\u001b[39mfilename,\n\u001b[0;32m    971\u001b[0m         metadata\u001b[38;5;241m=\u001b[39mmetadata)\n\u001b[0;32m    973\u001b[0m \u001b[38;5;28;01mif\u001b[39;00m \u001b[38;5;28mself\u001b[39m\u001b[38;5;241m.\u001b[39mwidth \u001b[38;5;129;01mis\u001b[39;00m \u001b[38;5;28;01mNone\u001b[39;00m \u001b[38;5;129;01mand\u001b[39;00m \u001b[38;5;28mself\u001b[39m\u001b[38;5;241m.\u001b[39mmetadata\u001b[38;5;241m.\u001b[39mget(\u001b[38;5;124m'\u001b[39m\u001b[38;5;124mwidth\u001b[39m\u001b[38;5;124m'\u001b[39m, {}):\n\u001b[0;32m    974\u001b[0m     \u001b[38;5;28mself\u001b[39m\u001b[38;5;241m.\u001b[39mwidth \u001b[38;5;241m=\u001b[39m metadata[\u001b[38;5;124m'\u001b[39m\u001b[38;5;124mwidth\u001b[39m\u001b[38;5;124m'\u001b[39m]\n",
      "File \u001b[1;32mD:\\Anaconda3\\Lib\\site-packages\\IPython\\core\\display.py:327\u001b[0m, in \u001b[0;36mDisplayObject.__init__\u001b[1;34m(self, data, url, filename, metadata)\u001b[0m\n\u001b[0;32m    324\u001b[0m \u001b[38;5;28;01melif\u001b[39;00m \u001b[38;5;28mself\u001b[39m\u001b[38;5;241m.\u001b[39mmetadata \u001b[38;5;129;01mis\u001b[39;00m \u001b[38;5;28;01mNone\u001b[39;00m:\n\u001b[0;32m    325\u001b[0m     \u001b[38;5;28mself\u001b[39m\u001b[38;5;241m.\u001b[39mmetadata \u001b[38;5;241m=\u001b[39m {}\n\u001b[1;32m--> 327\u001b[0m \u001b[38;5;28mself\u001b[39m\u001b[38;5;241m.\u001b[39mreload()\n\u001b[0;32m    328\u001b[0m \u001b[38;5;28mself\u001b[39m\u001b[38;5;241m.\u001b[39m_check_data()\n",
      "File \u001b[1;32mD:\\Anaconda3\\Lib\\site-packages\\IPython\\core\\display.py:1005\u001b[0m, in \u001b[0;36mImage.reload\u001b[1;34m(self)\u001b[0m\n\u001b[0;32m   1003\u001b[0m \u001b[38;5;250m\u001b[39m\u001b[38;5;124;03m\"\"\"Reload the raw data from file or URL.\"\"\"\u001b[39;00m\n\u001b[0;32m   1004\u001b[0m \u001b[38;5;28;01mif\u001b[39;00m \u001b[38;5;28mself\u001b[39m\u001b[38;5;241m.\u001b[39membed:\n\u001b[1;32m-> 1005\u001b[0m     \u001b[38;5;28msuper\u001b[39m(Image,\u001b[38;5;28mself\u001b[39m)\u001b[38;5;241m.\u001b[39mreload()\n\u001b[0;32m   1006\u001b[0m     \u001b[38;5;28;01mif\u001b[39;00m \u001b[38;5;28mself\u001b[39m\u001b[38;5;241m.\u001b[39mretina:\n\u001b[0;32m   1007\u001b[0m         \u001b[38;5;28mself\u001b[39m\u001b[38;5;241m.\u001b[39m_retina_shape()\n",
      "File \u001b[1;32mD:\\Anaconda3\\Lib\\site-packages\\IPython\\core\\display.py:353\u001b[0m, in \u001b[0;36mDisplayObject.reload\u001b[1;34m(self)\u001b[0m\n\u001b[0;32m    351\u001b[0m \u001b[38;5;28;01mif\u001b[39;00m \u001b[38;5;28mself\u001b[39m\u001b[38;5;241m.\u001b[39mfilename \u001b[38;5;129;01mis\u001b[39;00m \u001b[38;5;129;01mnot\u001b[39;00m \u001b[38;5;28;01mNone\u001b[39;00m:\n\u001b[0;32m    352\u001b[0m     encoding \u001b[38;5;241m=\u001b[39m \u001b[38;5;28;01mNone\u001b[39;00m \u001b[38;5;28;01mif\u001b[39;00m \u001b[38;5;124m\"\u001b[39m\u001b[38;5;124mb\u001b[39m\u001b[38;5;124m\"\u001b[39m \u001b[38;5;129;01min\u001b[39;00m \u001b[38;5;28mself\u001b[39m\u001b[38;5;241m.\u001b[39m_read_flags \u001b[38;5;28;01melse\u001b[39;00m \u001b[38;5;124m\"\u001b[39m\u001b[38;5;124mutf-8\u001b[39m\u001b[38;5;124m\"\u001b[39m\n\u001b[1;32m--> 353\u001b[0m     \u001b[38;5;28;01mwith\u001b[39;00m \u001b[38;5;28mopen\u001b[39m(\u001b[38;5;28mself\u001b[39m\u001b[38;5;241m.\u001b[39mfilename, \u001b[38;5;28mself\u001b[39m\u001b[38;5;241m.\u001b[39m_read_flags, encoding\u001b[38;5;241m=\u001b[39mencoding) \u001b[38;5;28;01mas\u001b[39;00m f:\n\u001b[0;32m    354\u001b[0m         \u001b[38;5;28mself\u001b[39m\u001b[38;5;241m.\u001b[39mdata \u001b[38;5;241m=\u001b[39m f\u001b[38;5;241m.\u001b[39mread()\n\u001b[0;32m    355\u001b[0m \u001b[38;5;28;01melif\u001b[39;00m \u001b[38;5;28mself\u001b[39m\u001b[38;5;241m.\u001b[39murl \u001b[38;5;129;01mis\u001b[39;00m \u001b[38;5;129;01mnot\u001b[39;00m \u001b[38;5;28;01mNone\u001b[39;00m:\n\u001b[0;32m    356\u001b[0m     \u001b[38;5;66;03m# Deferred import\u001b[39;00m\n",
      "\u001b[1;31mFileNotFoundError\u001b[0m: [Errno 2] No such file or directory: 'MeanVariancePortfolioOptimization.png'"
     ]
    }
   ],
   "source": [
    "# Display the PNG image file\n",
    "Image(filename='MeanVariancePortfolioOptimization.png')"
   ]
  },
  {
   "cell_type": "code",
   "execution_count": null,
   "metadata": {},
   "outputs": [],
   "source": []
  }
 ],
 "metadata": {
  "kernelspec": {
   "display_name": "Python 3 (ipykernel)",
   "language": "python",
   "name": "python3"
  },
  "language_info": {
   "codemirror_mode": {
    "name": "ipython",
    "version": 3
   },
   "file_extension": ".py",
   "mimetype": "text/x-python",
   "name": "python",
   "nbconvert_exporter": "python",
   "pygments_lexer": "ipython3",
   "version": "3.11.4"
  }
 },
 "nbformat": 4,
 "nbformat_minor": 2
}
