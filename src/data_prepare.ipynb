{
 "cells": [
  {
   "cell_type": "code",
   "execution_count": 1,
   "id": "593cbc85",
   "metadata": {},
   "outputs": [],
   "source": [
    "import pandas as pd\n",
    "from data import ( preprocess_stock_data, clean_financial_ratios,\n",
    "    merge_and_clean_data, filter_useful_features, calculate_technical_indicators,\n",
    "    normalize_data, merge_macro_data)"
   ]
  },
  {
   "cell_type": "code",
   "execution_count": 2,
   "id": "937d1a87",
   "metadata": {},
   "outputs": [],
   "source": [
    "# Load Data\n",
    "stock = pd.read_csv('../data/stocks_1.csv')\n",
    "stock_factor = pd.read_csv('../data/ratios_2.csv')\n",
    "macro = pd.read_csv('../data/bond_and_cpi.csv')"
   ]
  },
  {
   "cell_type": "code",
   "execution_count": 3,
   "id": "6b4be6e4",
   "metadata": {},
   "outputs": [
    {
     "name": "stderr",
     "output_type": "stream",
     "text": [
      "C:\\Users\\13370\\AppData\\Local\\Temp\\ipykernel_14724\\347585864.py:14: FutureWarning: Not prepending group keys to the result index of transform-like apply. In the future, the group keys will be included in the index, regardless of whether the applied function returns a like-indexed object.\n",
      "To preserve the previous behavior, use\n",
      "\n",
      "\t>>> .groupby(..., group_keys=False)\n",
      "\n",
      "To adopt the future behavior and silence this warning, use \n",
      "\n",
      "\t>>> .groupby(..., group_keys=True)\n",
      "  stock_final_1 = stock_final.groupby('gvkey').apply(calculate_technical_indicators).reset_index(drop=True)\n"
     ]
    },
    {
     "name": "stdout",
     "output_type": "stream",
     "text": [
      "       gvkey iid   datadate   tic                 conm  gsector    cshtrm  \\\n",
      "0       1913  01 2011-03-31   AVY  AVERY DENNISON CORP     15.0  0.010796   \n",
      "1       1913  01 2011-04-30   AVY  AVERY DENNISON CORP     15.0  0.006318   \n",
      "2       1913  01 2011-05-31   AVY  AVERY DENNISON CORP     15.0  0.006328   \n",
      "3       1913  01 2011-06-30   AVY  AVERY DENNISON CORP     15.0  0.011500   \n",
      "4       1913  01 2011-07-31   AVY  AVERY DENNISON CORP     15.0  0.014242   \n",
      "...      ...  ..        ...   ...                  ...      ...       ...   \n",
      "6463  260774  01 2023-08-31  CBRE       CBRE GROUP INC     60.0  0.013021   \n",
      "6464  260774  01 2023-09-30  CBRE       CBRE GROUP INC     60.0  0.018444   \n",
      "6465  260774  01 2023-10-31  CBRE       CBRE GROUP INC     60.0  0.016894   \n",
      "6466  260774  01 2023-11-30  CBRE       CBRE GROUP INC     60.0  0.016200   \n",
      "6467  260774  01 2023-12-31  CBRE       CBRE GROUP INC     60.0  0.015784   \n",
      "\n",
      "         prccm     prchm     prclm  ...    b30ret    b20ret    b10ret  \\\n",
      "0     0.011475  0.010783  0.011624  ...  0.447572  0.505968  0.485734   \n",
      "1     0.011413  0.011123  0.011945  ...  0.524495  0.625134  0.632978   \n",
      "2     0.011582  0.011012  0.011945  ...  0.577259  0.700208  0.734779   \n",
      "3     0.010536  0.010778  0.010569  ...  0.352766  0.407129  0.432365   \n",
      "4     0.008539  0.010094  0.009047  ...  0.624880  0.760939  0.794987   \n",
      "...        ...       ...       ...  ...       ...       ...       ...   \n",
      "6463  0.023627  0.022368  0.024072  ...  0.308923  0.357269  0.401432   \n",
      "6464  0.020471  0.022643  0.021510  ...  0.132149  0.150584  0.162578   \n",
      "6465  0.019197  0.019316  0.019244  ...  0.204479  0.245601  0.252807   \n",
      "6466  0.021910  0.020990  0.020481  ...  0.858258  1.000000  1.000000   \n",
      "6467  0.025894  0.024579  0.023585  ...  0.775906  0.911176  0.879250   \n",
      "\n",
      "         b7ret     b5ret     b2ret     b1ret    t90ret    t30ret    cpiret  \n",
      "0     0.460448  0.479048  0.409137  0.349846  0.074603  0.021886  0.009751  \n",
      "1     0.696662  0.777043  0.612828  0.390447  0.068691  0.018939  0.006439  \n",
      "2     0.755825  0.762814  0.561705  0.414261  0.039340  0.010522  0.004704  \n",
      "3     0.440776  0.524773  0.489151  0.358103  0.047289  0.015152 -0.001071  \n",
      "4     0.803837  0.839120  0.529782  0.281747  0.009376  0.001894  0.000886  \n",
      "...        ...       ...       ...       ...       ...       ...       ...  \n",
      "6463  0.406118  0.501864  0.566104  0.637871  0.712189  0.962542  0.004367  \n",
      "6464  0.216663  0.310022  0.448223  0.554350  0.900326  0.905724  0.002485  \n",
      "6465  0.260025  0.390806  0.526899  0.647424  1.000000  1.000000 -0.000383  \n",
      "6466  1.000000  0.978528  0.797468  0.800205  0.963310  0.938763 -0.002015  \n",
      "6467  0.843291  0.897072  0.778237  0.888639  0.886669  0.905513 -0.000993  \n",
      "\n",
      "[6468 rows x 80 columns]\n"
     ]
    }
   ],
   "source": [
    "# Select stocks\n",
    "stock_avg = preprocess_stock_data(stock)\n",
    "\n",
    "# Clean financial ratios data\n",
    "stock_factor_1 = clean_financial_ratios(stock_avg, stock_factor)\n",
    "\n",
    "# Merge trading data and financial ratios data and select proper companies\n",
    "stock_all_final = merge_and_clean_data(stock_avg, stock_factor_1)\n",
    "\n",
    "# Select features that are meaningful and useful\n",
    "stock_final = filter_useful_features(stock_all_final)\n",
    "\n",
    "# Calculate momentum technical indicators\n",
    "stock_final_1 = stock_final.groupby('gvkey').apply(calculate_technical_indicators).reset_index(drop=True)\n",
    "stock_use = stock_final_1.dropna()\n",
    "\n",
    "# Merge macro data\n",
    "stock_use = merge_macro_data(stock_use, macro)\n",
    "\n",
    "# Normalization\n",
    "stock_n = normalize_data(stock_use)\n",
    "\n",
    "# Save to CSV\n",
    "stock_n.to_csv('../data/normalized_data.csv', index=False)\n",
    "\n",
    "print(stock_n)\n",
    "\n"
   ]
  },
  {
   "cell_type": "code",
   "execution_count": null,
   "id": "e9c7acc9",
   "metadata": {},
   "outputs": [],
   "source": []
  }
 ],
 "metadata": {
  "kernelspec": {
   "display_name": "Python 3 (ipykernel)",
   "language": "python",
   "name": "python3"
  },
  "language_info": {
   "codemirror_mode": {
    "name": "ipython",
    "version": 3
   },
   "file_extension": ".py",
   "mimetype": "text/x-python",
   "name": "python",
   "nbconvert_exporter": "python",
   "pygments_lexer": "ipython3",
   "version": "3.11.4"
  }
 },
 "nbformat": 4,
 "nbformat_minor": 5
}
